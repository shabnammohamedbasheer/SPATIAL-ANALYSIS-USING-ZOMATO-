{
 "cells": [
  {
   "cell_type": "markdown",
   "id": "f2cfda79",
   "metadata": {},
   "source": [
    "# 1.. How to read data using sqlite3 !"
   ]
  },
  {
   "cell_type": "markdown",
   "id": "8b049812",
   "metadata": {},
   "source": [
    "### Columns description\n",
    "url contains the url of the restaurant in the zomato website\n",
    "\n",
    "address contains the address of the restaurant in Bengaluru\n",
    "\n",
    "name contains the name of the restaurant\n",
    "\n",
    "online_order whether online ordering is available in the restaurant or not\n",
    "\n",
    "book_table table book option available or not\n",
    "\n",
    "rate contains the overall rating of the restaurant out of 5\n",
    "\n",
    "votes contains total number of rating for the restaurant as of the above mentioned date\n",
    "\n",
    "phone contains the phone number of the restaurant\n",
    "\n",
    "location contains the neighborhood in which the restaurant is located\n",
    "\n",
    "rest_type restaurant type\n",
    "\n",
    "dish_liked dishes people liked in the restaurant\n",
    "\n",
    "cuisines food styles, separated by comma\n",
    "\n",
    "approx_cost(for two people) contains the approximate cost for meal for two people\n",
    "\n",
    "reviews_list list of tuples containing reviews for the restaurant, each tuple\n",
    "\n",
    "menu_item contains list of menus available in the restaurant\n",
    "\n",
    "listed_in(type) type of meal\n",
    "\n",
    "listed_in(city) contains the neighborhood in which the restaurant is listed"
   ]
  },
  {
   "cell_type": "code",
   "execution_count": null,
   "id": "52612048",
   "metadata": {},
   "outputs": [],
   "source": []
  },
  {
   "cell_type": "code",
   "execution_count": 1,
   "id": "8f931947",
   "metadata": {},
   "outputs": [],
   "source": [
    "import pandas as pd\n",
    "import numpy as np\n",
    "import matplotlib.pyplot as plt\n",
    "import seaborn as sns"
   ]
  },
  {
   "cell_type": "code",
   "execution_count": 2,
   "id": "692c7264",
   "metadata": {},
   "outputs": [],
   "source": [
    "import sqlite3"
   ]
  },
  {
   "cell_type": "code",
   "execution_count": 3,
   "id": "c357669d",
   "metadata": {},
   "outputs": [],
   "source": [
    "# very first u have to create a SQL connection to our SQLite database\n",
    "con=sqlite3.connect(\"zomato_rawdata.sqlite\")"
   ]
  },
  {
   "cell_type": "code",
   "execution_count": 4,
   "id": "a6453eb3",
   "metadata": {},
   "outputs": [
    {
     "data": {
      "text/html": [
       "<div>\n",
       "<style scoped>\n",
       "    .dataframe tbody tr th:only-of-type {\n",
       "        vertical-align: middle;\n",
       "    }\n",
       "\n",
       "    .dataframe tbody tr th {\n",
       "        vertical-align: top;\n",
       "    }\n",
       "\n",
       "    .dataframe thead th {\n",
       "        text-align: right;\n",
       "    }\n",
       "</style>\n",
       "<table border=\"1\" class=\"dataframe\">\n",
       "  <thead>\n",
       "    <tr style=\"text-align: right;\">\n",
       "      <th></th>\n",
       "      <th>index</th>\n",
       "      <th>url</th>\n",
       "      <th>address</th>\n",
       "      <th>name</th>\n",
       "      <th>online_order</th>\n",
       "      <th>book_table</th>\n",
       "      <th>rate</th>\n",
       "      <th>votes</th>\n",
       "      <th>phone</th>\n",
       "      <th>location</th>\n",
       "      <th>rest_type</th>\n",
       "      <th>dish_liked</th>\n",
       "      <th>cuisines</th>\n",
       "      <th>approx_cost(for two people)</th>\n",
       "      <th>reviews_list</th>\n",
       "      <th>menu_item</th>\n",
       "      <th>listed_in(type)</th>\n",
       "      <th>listed_in(city)</th>\n",
       "    </tr>\n",
       "  </thead>\n",
       "  <tbody>\n",
       "    <tr>\n",
       "      <th>0</th>\n",
       "      <td>0</td>\n",
       "      <td>https://www.zomato.com/bangalore/jalsa-banasha...</td>\n",
       "      <td>942, 21st Main Road, 2nd Stage, Banashankari, ...</td>\n",
       "      <td>Jalsa</td>\n",
       "      <td>Yes</td>\n",
       "      <td>Yes</td>\n",
       "      <td>4.1/5</td>\n",
       "      <td>775</td>\n",
       "      <td>080 42297555\\r\\n+91 9743772233</td>\n",
       "      <td>Banashankari</td>\n",
       "      <td>Casual Dining</td>\n",
       "      <td>Pasta, Lunch Buffet, Masala Papad, Paneer Laja...</td>\n",
       "      <td>North Indian, Mughlai, Chinese</td>\n",
       "      <td>800</td>\n",
       "      <td>[('Rated 4.0', 'RATED\\n  A beautiful place to ...</td>\n",
       "      <td>[]</td>\n",
       "      <td>Buffet</td>\n",
       "      <td>Banashankari</td>\n",
       "    </tr>\n",
       "    <tr>\n",
       "      <th>1</th>\n",
       "      <td>1</td>\n",
       "      <td>https://www.zomato.com/bangalore/spice-elephan...</td>\n",
       "      <td>2nd Floor, 80 Feet Road, Near Big Bazaar, 6th ...</td>\n",
       "      <td>Spice Elephant</td>\n",
       "      <td>Yes</td>\n",
       "      <td>No</td>\n",
       "      <td>4.1/5</td>\n",
       "      <td>787</td>\n",
       "      <td>080 41714161</td>\n",
       "      <td>Banashankari</td>\n",
       "      <td>Casual Dining</td>\n",
       "      <td>Momos, Lunch Buffet, Chocolate Nirvana, Thai G...</td>\n",
       "      <td>Chinese, North Indian, Thai</td>\n",
       "      <td>800</td>\n",
       "      <td>[('Rated 4.0', 'RATED\\n  Had been here for din...</td>\n",
       "      <td>[]</td>\n",
       "      <td>Buffet</td>\n",
       "      <td>Banashankari</td>\n",
       "    </tr>\n",
       "  </tbody>\n",
       "</table>\n",
       "</div>"
      ],
      "text/plain": [
       "   index                                                url  \\\n",
       "0      0  https://www.zomato.com/bangalore/jalsa-banasha...   \n",
       "1      1  https://www.zomato.com/bangalore/spice-elephan...   \n",
       "\n",
       "                                             address            name  \\\n",
       "0  942, 21st Main Road, 2nd Stage, Banashankari, ...           Jalsa   \n",
       "1  2nd Floor, 80 Feet Road, Near Big Bazaar, 6th ...  Spice Elephant   \n",
       "\n",
       "  online_order book_table   rate  votes                           phone  \\\n",
       "0          Yes        Yes  4.1/5    775  080 42297555\\r\\n+91 9743772233   \n",
       "1          Yes         No  4.1/5    787                    080 41714161   \n",
       "\n",
       "       location      rest_type  \\\n",
       "0  Banashankari  Casual Dining   \n",
       "1  Banashankari  Casual Dining   \n",
       "\n",
       "                                          dish_liked  \\\n",
       "0  Pasta, Lunch Buffet, Masala Papad, Paneer Laja...   \n",
       "1  Momos, Lunch Buffet, Chocolate Nirvana, Thai G...   \n",
       "\n",
       "                         cuisines approx_cost(for two people)  \\\n",
       "0  North Indian, Mughlai, Chinese                         800   \n",
       "1     Chinese, North Indian, Thai                         800   \n",
       "\n",
       "                                        reviews_list menu_item  \\\n",
       "0  [('Rated 4.0', 'RATED\\n  A beautiful place to ...        []   \n",
       "1  [('Rated 4.0', 'RATED\\n  Had been here for din...        []   \n",
       "\n",
       "  listed_in(type) listed_in(city)  \n",
       "0          Buffet    Banashankari  \n",
       "1          Buffet    Banashankari  "
      ]
     },
     "execution_count": 4,
     "metadata": {},
     "output_type": "execute_result"
    }
   ],
   "source": [
    "#### check online its table name on https://sqliteonline.com/\n",
    "pd.read_sql_query(\"SELECT * FROM Users\" , con).head(2)"
   ]
  },
  {
   "cell_type": "code",
   "execution_count": 5,
   "id": "05013da0",
   "metadata": {},
   "outputs": [],
   "source": [
    "df=pd.read_sql_query(\"SELECT * FROM Users\" , con)"
   ]
  },
  {
   "cell_type": "code",
   "execution_count": 6,
   "id": "6e47531e",
   "metadata": {},
   "outputs": [
    {
     "data": {
      "text/plain": [
       "(51717, 18)"
      ]
     },
     "execution_count": 6,
     "metadata": {},
     "output_type": "execute_result"
    }
   ],
   "source": [
    "df.shape"
   ]
  },
  {
   "cell_type": "code",
   "execution_count": 7,
   "id": "8adfe858",
   "metadata": {},
   "outputs": [
    {
     "data": {
      "text/plain": [
       "Index(['index', 'url', 'address', 'name', 'online_order', 'book_table', 'rate',\n",
       "       'votes', 'phone', 'location', 'rest_type', 'dish_liked', 'cuisines',\n",
       "       'approx_cost(for two people)', 'reviews_list', 'menu_item',\n",
       "       'listed_in(type)', 'listed_in(city)'],\n",
       "      dtype='object')"
      ]
     },
     "execution_count": 7,
     "metadata": {},
     "output_type": "execute_result"
    }
   ],
   "source": [
    "df.columns"
   ]
  },
  {
   "cell_type": "markdown",
   "id": "246512a5",
   "metadata": {},
   "source": [
    "# 2.. how to deal with missing values ?\n",
    "its not good to drop missing value right now as we might loose important info , so \n",
    "we will deal with it depending upon the problem statements .."
   ]
  },
  {
   "cell_type": "code",
   "execution_count": 8,
   "id": "d9bfa121",
   "metadata": {},
   "outputs": [
    {
     "data": {
      "text/plain": [
       "index                              0\n",
       "url                                0\n",
       "address                            0\n",
       "name                               0\n",
       "online_order                       0\n",
       "book_table                         0\n",
       "rate                            7775\n",
       "votes                              0\n",
       "phone                           1208\n",
       "location                          21\n",
       "rest_type                        227\n",
       "dish_liked                     28078\n",
       "cuisines                          45\n",
       "approx_cost(for two people)      346\n",
       "reviews_list                       0\n",
       "menu_item                          0\n",
       "listed_in(type)                    0\n",
       "listed_in(city)                    0\n",
       "dtype: int64"
      ]
     },
     "execution_count": 8,
     "metadata": {},
     "output_type": "execute_result"
    }
   ],
   "source": [
    "df.isnull().sum()"
   ]
  },
  {
   "cell_type": "code",
   "execution_count": 9,
   "id": "851e7762",
   "metadata": {},
   "outputs": [
    {
     "data": {
      "text/plain": [
       "index                           0.000000\n",
       "url                             0.000000\n",
       "address                         0.000000\n",
       "name                            0.000000\n",
       "online_order                    0.000000\n",
       "book_table                      0.000000\n",
       "rate                           15.033741\n",
       "votes                           0.000000\n",
       "phone                           2.335789\n",
       "location                        0.040606\n",
       "rest_type                       0.438927\n",
       "dish_liked                     54.291626\n",
       "cuisines                        0.087012\n",
       "approx_cost(for two people)     0.669026\n",
       "reviews_list                    0.000000\n",
       "menu_item                       0.000000\n",
       "listed_in(type)                 0.000000\n",
       "listed_in(city)                 0.000000\n",
       "dtype: float64"
      ]
     },
     "execution_count": 9,
     "metadata": {},
     "output_type": "execute_result"
    }
   ],
   "source": [
    "df.isnull().sum()/len(df)*100"
   ]
  },
  {
   "cell_type": "code",
   "execution_count": 10,
   "id": "6c3f3806",
   "metadata": {},
   "outputs": [
    {
     "data": {
      "text/plain": [
       "\"\\n     -->> As we notice around 50 % of data will be lost if we delete the nan values in dish_liked column\\n         We will keep that column for now..\\n        \\n     -->> let's check for rate column as it contains 15% of its points as null value which \\n         is one of the most important feature.. \\n         \\n\""
      ]
     },
     "execution_count": 10,
     "metadata": {},
     "output_type": "execute_result"
    }
   ],
   "source": [
    "'''\n",
    "     -->> As we notice around 50 % of data will be lost if we delete the nan values in dish_liked column\n",
    "         We will keep that column for now..\n",
    "        \n",
    "     -->> let's check for rate column as it contains 15% of its points as null value which \n",
    "         is one of the most important feature.. \n",
    "         \n",
    "'''"
   ]
  },
  {
   "cell_type": "code",
   "execution_count": 11,
   "id": "0f656c45",
   "metadata": {},
   "outputs": [
    {
     "data": {
      "text/plain": [
       "array(['4.1/5', '3.8/5', '3.7/5', '3.6/5', '4.6/5', '4.0/5', '4.2/5',\n",
       "       '3.9/5', '3.1/5', '3.0/5', '3.2/5', '3.3/5', '2.8/5', '4.4/5',\n",
       "       '4.3/5', 'NEW', '2.9/5', '3.5/5', None, '2.6/5', '3.8 /5', '3.4/5',\n",
       "       '4.5/5', '2.5/5', '2.7/5', '4.7/5', '2.4/5', '2.2/5', '2.3/5',\n",
       "       '3.4 /5', '-', '3.6 /5', '4.8/5', '3.9 /5', '4.2 /5', '4.0 /5',\n",
       "       '4.1 /5', '3.7 /5', '3.1 /5', '2.9 /5', '3.3 /5', '2.8 /5',\n",
       "       '3.5 /5', '2.7 /5', '2.5 /5', '3.2 /5', '2.6 /5', '4.5 /5',\n",
       "       '4.3 /5', '4.4 /5', '4.9/5', '2.1/5', '2.0/5', '1.8/5', '4.6 /5',\n",
       "       '4.9 /5', '3.0 /5', '4.8 /5', '2.3 /5', '4.7 /5', '2.4 /5',\n",
       "       '2.1 /5', '2.2 /5', '2.0 /5', '1.8 /5'], dtype=object)"
      ]
     },
     "execution_count": 11,
     "metadata": {},
     "output_type": "execute_result"
    }
   ],
   "source": [
    "df.rate.unique()"
   ]
  },
  {
   "cell_type": "code",
   "execution_count": 12,
   "id": "efe80b38",
   "metadata": {},
   "outputs": [
    {
     "ename": "SyntaxError",
     "evalue": "invalid syntax (2326091020.py, line 1)",
     "output_type": "error",
     "traceback": [
      "\u001b[1;36m  Cell \u001b[1;32mIn[12], line 1\u001b[1;36m\u001b[0m\n\u001b[1;33m    -->> 1... So, Now we found this column has 'NEW' ,\"-\" values which should replaced by zero or np.nan\u001b[0m\n\u001b[1;37m     ^\u001b[0m\n\u001b[1;31mSyntaxError\u001b[0m\u001b[1;31m:\u001b[0m invalid syntax\n"
     ]
    }
   ],
   "source": [
    "-->> 1... So, Now we found this column has 'NEW' ,\"-\" values which should replaced by zero or np.nan \n",
    "        after having conversation with my business team ( Domain Expertise)..\n",
    "\n",
    "-->> 2...there are values as '3.8/5' instead of 3.8 , ie we have to fix this .. "
   ]
  },
  {
   "cell_type": "markdown",
   "id": "ef4993f0",
   "metadata": {},
   "source": [
    "### so lets replace 'NEW' & '-' with np.nan or with \"missing value\" ,so that we can fill later it with some value.."
   ]
  },
  {
   "cell_type": "code",
   "execution_count": null,
   "id": "fa90cabf",
   "metadata": {},
   "outputs": [],
   "source": [
    "df[\"rate\"].replace((\"NEW\",\"-\"),np.nan,inplace=True)"
   ]
  },
  {
   "cell_type": "code",
   "execution_count": null,
   "id": "c93b414f",
   "metadata": {},
   "outputs": [],
   "source": [
    "df['rate'].unique()"
   ]
  },
  {
   "cell_type": "code",
   "execution_count": null,
   "id": "f28bacfd",
   "metadata": {},
   "outputs": [],
   "source": [
    "\"4.1/5\".split('/')[0]"
   ]
  },
  {
   "cell_type": "code",
   "execution_count": null,
   "id": "f4d36fe9",
   "metadata": {},
   "outputs": [],
   "source": [
    "type(\"4.1/5\".split('/')[0])"
   ]
  },
  {
   "cell_type": "code",
   "execution_count": null,
   "id": "06bdf198",
   "metadata": {},
   "outputs": [],
   "source": [
    "float(\"4.1/5\".split('/')[0])"
   ]
  },
  {
   "cell_type": "code",
   "execution_count": null,
   "id": "cd782382",
   "metadata": {},
   "outputs": [],
   "source": [
    "df[\"rate\"]=df[\"rate\"].apply(lambda x : float(x.split(\"/\")[0]) if type(x)==str else x)"
   ]
  },
  {
   "cell_type": "code",
   "execution_count": null,
   "id": "08470b3b",
   "metadata": {},
   "outputs": [],
   "source": [
    "df.rate.unique()"
   ]
  },
  {
   "cell_type": "markdown",
   "id": "a175ddda",
   "metadata": {},
   "source": [
    "# 3.. Is there a relation between online order option and rating of the restaurant ?"
   ]
  },
  {
   "cell_type": "code",
   "execution_count": null,
   "id": "2a7e9117",
   "metadata": {},
   "outputs": [],
   "source": [
    "df.sample(5)"
   ]
  },
  {
   "cell_type": "code",
   "execution_count": null,
   "id": "762dd9de",
   "metadata": {},
   "outputs": [],
   "source": [
    "### lets find out relation b/w rating & online_order\n",
    "### ie how many restaurants that have rating 0 , 1 , 1.2 , 1.4 , 1.6--- & that accepts online_order & do not accept order\n",
    "### for such problem statement , we will create frequency tables.."
   ]
  },
  {
   "cell_type": "code",
   "execution_count": null,
   "id": "aa1ecd27",
   "metadata": {},
   "outputs": [],
   "source": [
    "x=pd.crosstab(df[\"rate\"], df[\"online_order\"])"
   ]
  },
  {
   "cell_type": "code",
   "execution_count": null,
   "id": "889fcc71",
   "metadata": {},
   "outputs": [],
   "source": [
    "x"
   ]
  },
  {
   "cell_type": "code",
   "execution_count": null,
   "id": "25b5af19",
   "metadata": {},
   "outputs": [],
   "source": [
    "x.plot(kind=\"bar\",stacked = True)"
   ]
  },
  {
   "cell_type": "code",
   "execution_count": null,
   "id": "7891186e",
   "metadata": {},
   "outputs": [],
   "source": [
    "x.sum()"
   ]
  },
  {
   "cell_type": "code",
   "execution_count": null,
   "id": "3e12c5f9",
   "metadata": {},
   "outputs": [],
   "source": [
    "x.sum(axis=0)"
   ]
  },
  {
   "cell_type": "code",
   "execution_count": null,
   "id": "af4d1033",
   "metadata": {},
   "outputs": [],
   "source": [
    "x.sum(axis=1).astype(float)"
   ]
  },
  {
   "cell_type": "code",
   "execution_count": null,
   "id": "fa90fc05",
   "metadata": {},
   "outputs": [],
   "source": [
    "## we need Floating division of dataframe or normalized values of x dataframe across rows..just call x.div() & set axis=0\n",
    "## div is a in-built function of pandas designed for dataframe data-structure..\n",
    "normalize_df=x.div(x.sum(axis=1).astype(float),axis=0)"
   ]
  },
  {
   "cell_type": "code",
   "execution_count": null,
   "id": "616114e4",
   "metadata": {},
   "outputs": [],
   "source": [
    "normalize_df"
   ]
  },
  {
   "cell_type": "code",
   "execution_count": null,
   "id": "423c3455",
   "metadata": {},
   "outputs": [],
   "source": [
    "## lets multiply each value by 100 so that we will get much better results in % !\n",
    "## stacked=True gives basically stacked bar chart\n",
    "(normalize_df*100).plot(kind=\"bar\",stacked=True)"
   ]
  },
  {
   "cell_type": "code",
   "execution_count": null,
   "id": "e7795712",
   "metadata": {},
   "outputs": [],
   "source": [
    "'''\n",
    "Inference :: \n",
    "\n",
    "For good rating ie > 4 , for most instances it seems that rest who accepts online order have received more number of ratings\n",
    "than those rest. who don't accept online order \n",
    "\n",
    "'''"
   ]
  },
  {
   "cell_type": "markdown",
   "id": "2415e07a",
   "metadata": {},
   "source": [
    "# 4.. Data Cleaning to perform Text Analysis\n",
    "Perform Text Analysis.. ie analysing customer reviews of Quick Bites restaurant : "
   ]
  },
  {
   "cell_type": "markdown",
   "id": "a502f46b",
   "metadata": {},
   "source": [
    "# ways to do it..\n",
    "a) using wordcloud\n",
    "\n",
    "    But wordcloud will not give a clear cut , how important words are\n",
    "    So lets use a concept of frequency over here...\n",
    "    \n",
    "b) using plots/charts-- where each word have some frequency..\n",
    "b) using plots/charts\n",
    "\n",
    "# We need Pre-processed data so that we can plot charts\n",
    "ie  (Biryani , 10K)\n",
    "    (Chicken , 15K)\n",
    "    etc..\n",
    "    "
   ]
  },
  {
   "cell_type": "code",
   "execution_count": null,
   "id": "0c4a1b3d",
   "metadata": {},
   "outputs": [],
   "source": [
    "df[\"rest_type\"].isnull().sum()"
   ]
  },
  {
   "cell_type": "code",
   "execution_count": null,
   "id": "b40f45c1",
   "metadata": {},
   "outputs": [],
   "source": [
    "data=df.dropna(subset=[\"rest_type\"])\n",
    "data"
   ]
  },
  {
   "cell_type": "code",
   "execution_count": null,
   "id": "1365bb93",
   "metadata": {},
   "outputs": [],
   "source": [
    "data[\"rest_type\"].isnull().sum()"
   ]
  },
  {
   "cell_type": "code",
   "execution_count": null,
   "id": "8786b3de",
   "metadata": {},
   "outputs": [],
   "source": [
    "data['rest_type'].unique()"
   ]
  },
  {
   "cell_type": "code",
   "execution_count": null,
   "id": "bf25edb6",
   "metadata": {},
   "outputs": [],
   "source": [
    "data['rest_type'].value_counts()"
   ]
  },
  {
   "cell_type": "code",
   "execution_count": null,
   "id": "f4a52e34",
   "metadata": {},
   "outputs": [],
   "source": [
    "### if we need whole data of 'Quick Bites' restaurant , we can use below code : "
   ]
  },
  {
   "cell_type": "code",
   "execution_count": null,
   "id": "6c13b832",
   "metadata": {},
   "outputs": [],
   "source": [
    "quick_bites_df = data[data['rest_type'].str.contains('Quick Bites')]"
   ]
  },
  {
   "cell_type": "code",
   "execution_count": null,
   "id": "c26f6b1b",
   "metadata": {},
   "outputs": [],
   "source": [
    "quick_bites_df.head()"
   ]
  },
  {
   "cell_type": "code",
   "execution_count": null,
   "id": "a5980149",
   "metadata": {},
   "outputs": [],
   "source": [
    "quick_bites_df.shape"
   ]
  },
  {
   "cell_type": "code",
   "execution_count": null,
   "id": "4bcca507",
   "metadata": {},
   "outputs": [],
   "source": [
    "quick_bites_df.columns"
   ]
  },
  {
   "cell_type": "markdown",
   "id": "74a53b2b",
   "metadata": {},
   "source": [
    "### How to Perform Data Pre-processing to pre-process this data..\n",
    "    Steps-->>\n",
    "        a) Perform Lower-case operation\n",
    "        \n",
    "        b) Do tokenization\n",
    "        \n",
    "        c) Removal of stopwords from data\n",
    "        \n",
    "        d) Store your entire data in the list so that we can commpute frequency of each word\n",
    "        \n",
    "        e) Do plotting , using Unigram  , bigram & Trigram analysis.."
   ]
  },
  {
   "cell_type": "markdown",
   "id": "084f0991",
   "metadata": {},
   "source": [
    "### a) Perform Lower-case operation"
   ]
  },
  {
   "cell_type": "code",
   "execution_count": null,
   "id": "31601dd3",
   "metadata": {},
   "outputs": [],
   "source": [
    "quick_bites_df['reviews_list']"
   ]
  },
  {
   "cell_type": "code",
   "execution_count": null,
   "id": "c9967646",
   "metadata": {},
   "outputs": [],
   "source": [
    "quick_bites_df['reviews_list']=quick_bites_df['reviews_list'].apply(lambda x:x.lower())"
   ]
  },
  {
   "cell_type": "code",
   "execution_count": null,
   "id": "179baa81",
   "metadata": {},
   "outputs": [],
   "source": [
    "#### b) Do tokenization"
   ]
  },
  {
   "cell_type": "code",
   "execution_count": null,
   "id": "9238b026",
   "metadata": {},
   "outputs": [],
   "source": [
    "from nltk import RegexpTokenizer"
   ]
  },
  {
   "cell_type": "code",
   "execution_count": 13,
   "id": "46187145",
   "metadata": {},
   "outputs": [
    {
     "ename": "NameError",
     "evalue": "name 'RegexpTokenizer' is not defined",
     "output_type": "error",
     "traceback": [
      "\u001b[1;31m---------------------------------------------------------------------------\u001b[0m",
      "\u001b[1;31mNameError\u001b[0m                                 Traceback (most recent call last)",
      "Cell \u001b[1;32mIn[13], line 4\u001b[0m\n\u001b[0;32m      1\u001b[0m \u001b[38;5;66;03m##  Creating a regular expression tokenizer that have only alphabets , ie remove all the special characters\u001b[39;00m\n\u001b[0;32m      2\u001b[0m \u001b[38;5;66;03m# This will return separate words (tokens) from the text in the form of list\u001b[39;00m\n\u001b[1;32m----> 4\u001b[0m tokenizer \u001b[38;5;241m=\u001b[39m \u001b[43mRegexpTokenizer\u001b[49m(\u001b[38;5;124m\"\u001b[39m\u001b[38;5;124m[a-zA-Z]+\u001b[39m\u001b[38;5;124m\"\u001b[39m)\n",
      "\u001b[1;31mNameError\u001b[0m: name 'RegexpTokenizer' is not defined"
     ]
    }
   ],
   "source": [
    "##  Creating a regular expression tokenizer that have only alphabets , ie remove all the special characters\n",
    "# This will return separate words (tokens) from the text in the form of list\n",
    "\n",
    "tokenizer = RegexpTokenizer(\"[a-zA-Z]+\")"
   ]
  },
  {
   "cell_type": "code",
   "execution_count": null,
   "id": "b12662cd",
   "metadata": {},
   "outputs": [],
   "source": [
    "quick_bites_df[\"reviews_list\"][3]"
   ]
  },
  {
   "cell_type": "code",
   "execution_count": null,
   "id": "374bc1ba",
   "metadata": {},
   "outputs": [],
   "source": [
    "tokenizer.tokenize(quick_bites_df[\"reviews_list\"][3])"
   ]
  },
  {
   "cell_type": "code",
   "execution_count": null,
   "id": "f34c532f",
   "metadata": {},
   "outputs": [],
   "source": [
    "reviews_tokens = quick_bites_df['reviews_list'].apply(tokenizer.tokenize)"
   ]
  },
  {
   "cell_type": "code",
   "execution_count": null,
   "id": "83d34e4d",
   "metadata": {},
   "outputs": [],
   "source": [
    "reviews_tokens"
   ]
  },
  {
   "cell_type": "markdown",
   "id": "a74ca12f",
   "metadata": {},
   "source": [
    "# 5.. Performing Unigram analysis & removal of stopwords .."
   ]
  },
  {
   "cell_type": "code",
   "execution_count": null,
   "id": "1aecbf27",
   "metadata": {},
   "outputs": [],
   "source": [
    "#### c) Removal of stopwords from data"
   ]
  },
  {
   "cell_type": "code",
   "execution_count": 14,
   "id": "e916ce11",
   "metadata": {},
   "outputs": [],
   "source": [
    "from nltk.corpus import stopwords"
   ]
  },
  {
   "cell_type": "code",
   "execution_count": 15,
   "id": "92547274",
   "metadata": {},
   "outputs": [],
   "source": [
    "# These are common words defined by Python developers that typically don't add meaning to the text and can be removed\n",
    "stop = stopwords.words('english')"
   ]
  },
  {
   "cell_type": "code",
   "execution_count": 16,
   "id": "65e262d6",
   "metadata": {},
   "outputs": [
    {
     "data": {
      "text/plain": [
       "['i',\n",
       " 'me',\n",
       " 'my',\n",
       " 'myself',\n",
       " 'we',\n",
       " 'our',\n",
       " 'ours',\n",
       " 'ourselves',\n",
       " 'you',\n",
       " \"you're\",\n",
       " \"you've\",\n",
       " \"you'll\",\n",
       " \"you'd\",\n",
       " 'your',\n",
       " 'yours',\n",
       " 'yourself',\n",
       " 'yourselves',\n",
       " 'he',\n",
       " 'him',\n",
       " 'his',\n",
       " 'himself',\n",
       " 'she',\n",
       " \"she's\",\n",
       " 'her',\n",
       " 'hers',\n",
       " 'herself',\n",
       " 'it',\n",
       " \"it's\",\n",
       " 'its',\n",
       " 'itself',\n",
       " 'they',\n",
       " 'them',\n",
       " 'their',\n",
       " 'theirs',\n",
       " 'themselves',\n",
       " 'what',\n",
       " 'which',\n",
       " 'who',\n",
       " 'whom',\n",
       " 'this',\n",
       " 'that',\n",
       " \"that'll\",\n",
       " 'these',\n",
       " 'those',\n",
       " 'am',\n",
       " 'is',\n",
       " 'are',\n",
       " 'was',\n",
       " 'were',\n",
       " 'be',\n",
       " 'been',\n",
       " 'being',\n",
       " 'have',\n",
       " 'has',\n",
       " 'had',\n",
       " 'having',\n",
       " 'do',\n",
       " 'does',\n",
       " 'did',\n",
       " 'doing',\n",
       " 'a',\n",
       " 'an',\n",
       " 'the',\n",
       " 'and',\n",
       " 'but',\n",
       " 'if',\n",
       " 'or',\n",
       " 'because',\n",
       " 'as',\n",
       " 'until',\n",
       " 'while',\n",
       " 'of',\n",
       " 'at',\n",
       " 'by',\n",
       " 'for',\n",
       " 'with',\n",
       " 'about',\n",
       " 'against',\n",
       " 'between',\n",
       " 'into',\n",
       " 'through',\n",
       " 'during',\n",
       " 'before',\n",
       " 'after',\n",
       " 'above',\n",
       " 'below',\n",
       " 'to',\n",
       " 'from',\n",
       " 'up',\n",
       " 'down',\n",
       " 'in',\n",
       " 'out',\n",
       " 'on',\n",
       " 'off',\n",
       " 'over',\n",
       " 'under',\n",
       " 'again',\n",
       " 'further',\n",
       " 'then',\n",
       " 'once',\n",
       " 'here',\n",
       " 'there',\n",
       " 'when',\n",
       " 'where',\n",
       " 'why',\n",
       " 'how',\n",
       " 'all',\n",
       " 'any',\n",
       " 'both',\n",
       " 'each',\n",
       " 'few',\n",
       " 'more',\n",
       " 'most',\n",
       " 'other',\n",
       " 'some',\n",
       " 'such',\n",
       " 'no',\n",
       " 'nor',\n",
       " 'not',\n",
       " 'only',\n",
       " 'own',\n",
       " 'same',\n",
       " 'so',\n",
       " 'than',\n",
       " 'too',\n",
       " 'very',\n",
       " 's',\n",
       " 't',\n",
       " 'can',\n",
       " 'will',\n",
       " 'just',\n",
       " 'don',\n",
       " \"don't\",\n",
       " 'should',\n",
       " \"should've\",\n",
       " 'now',\n",
       " 'd',\n",
       " 'll',\n",
       " 'm',\n",
       " 'o',\n",
       " 're',\n",
       " 've',\n",
       " 'y',\n",
       " 'ain',\n",
       " 'aren',\n",
       " \"aren't\",\n",
       " 'couldn',\n",
       " \"couldn't\",\n",
       " 'didn',\n",
       " \"didn't\",\n",
       " 'doesn',\n",
       " \"doesn't\",\n",
       " 'hadn',\n",
       " \"hadn't\",\n",
       " 'hasn',\n",
       " \"hasn't\",\n",
       " 'haven',\n",
       " \"haven't\",\n",
       " 'isn',\n",
       " \"isn't\",\n",
       " 'ma',\n",
       " 'mightn',\n",
       " \"mightn't\",\n",
       " 'mustn',\n",
       " \"mustn't\",\n",
       " 'needn',\n",
       " \"needn't\",\n",
       " 'shan',\n",
       " \"shan't\",\n",
       " 'shouldn',\n",
       " \"shouldn't\",\n",
       " 'wasn',\n",
       " \"wasn't\",\n",
       " 'weren',\n",
       " \"weren't\",\n",
       " 'won',\n",
       " \"won't\",\n",
       " 'wouldn',\n",
       " \"wouldn't\"]"
      ]
     },
     "execution_count": 16,
     "metadata": {},
     "output_type": "execute_result"
    }
   ],
   "source": [
    "stop"
   ]
  },
  {
   "cell_type": "code",
   "execution_count": 17,
   "id": "9522c2ee",
   "metadata": {},
   "outputs": [],
   "source": [
    "### we will figure out there are some more stopwords in my data, that we can add it to my stop list"
   ]
  },
  {
   "cell_type": "code",
   "execution_count": 18,
   "id": "684bd4a2",
   "metadata": {},
   "outputs": [],
   "source": [
    "# Adding custom words to stopwords \n",
    "stop.extend(['rated' , \"n\" , \"nan\" , \"x\" , \"RATED\" , \"Rated\"])"
   ]
  },
  {
   "cell_type": "code",
   "execution_count": 19,
   "id": "caf3c690",
   "metadata": {},
   "outputs": [],
   "source": [
    "### with respect to every row/list, how to remove stopwords"
   ]
  },
  {
   "cell_type": "code",
   "execution_count": 20,
   "id": "baac9cbd",
   "metadata": {},
   "outputs": [
    {
     "ename": "NameError",
     "evalue": "name 'reviews_tokens' is not defined",
     "output_type": "error",
     "traceback": [
      "\u001b[1;31m---------------------------------------------------------------------------\u001b[0m",
      "\u001b[1;31mNameError\u001b[0m                                 Traceback (most recent call last)",
      "Cell \u001b[1;32mIn[20], line 2\u001b[0m\n\u001b[0;32m      1\u001b[0m \u001b[38;5;66;03m### with respect to fourth row, how to remove stopwords\u001b[39;00m\n\u001b[1;32m----> 2\u001b[0m rev3 \u001b[38;5;241m=\u001b[39m \u001b[43mreviews_tokens\u001b[49m[\u001b[38;5;241m3\u001b[39m]\n\u001b[0;32m      3\u001b[0m \u001b[38;5;28mprint\u001b[39m(rev3)\n",
      "\u001b[1;31mNameError\u001b[0m: name 'reviews_tokens' is not defined"
     ]
    }
   ],
   "source": [
    "### with respect to fourth row, how to remove stopwords\n",
    "rev3 = reviews_tokens[3]\n",
    "print(rev3)"
   ]
  },
  {
   "cell_type": "code",
   "execution_count": null,
   "id": "a98e36f8",
   "metadata": {},
   "outputs": [],
   "source": [
    "print([token for token in rev3 if token not in stop])"
   ]
  },
  {
   "cell_type": "code",
   "execution_count": null,
   "id": "bfd83550",
   "metadata": {},
   "outputs": [],
   "source": [
    "## remove stopwords from \"reviews_tokens\" Series ..\n",
    "reviews_tokens_clean = reviews_tokens.apply(lambda each_review : [token for token in each_review if token not in stop])"
   ]
  },
  {
   "cell_type": "code",
   "execution_count": null,
   "id": "d4253b94",
   "metadata": {},
   "outputs": [],
   "source": [
    "reviews_tokens_clean"
   ]
  },
  {
   "cell_type": "markdown",
   "id": "23a473ee",
   "metadata": {},
   "source": [
    "### d) Store your entire data in the list so that we can compute frequency of each word"
   ]
  },
  {
   "cell_type": "code",
   "execution_count": null,
   "id": "d66477ba",
   "metadata": {},
   "outputs": [],
   "source": [
    "### now this reviews_tokens_clean is a series ,but we need entire data in the form of 1-D list so that we can compute frequency of\n",
    "### each word"
   ]
  },
  {
   "cell_type": "code",
   "execution_count": null,
   "id": "03b3e184",
   "metadata": {},
   "outputs": [],
   "source": [
    "type(reviews_tokens_clean)"
   ]
  },
  {
   "cell_type": "markdown",
   "id": "230ba7ff",
   "metadata": {},
   "source": [
    " list( reviews_tokens_clean ) gives us 2-D list (list inside list) , \n",
    "    as each row is already a list & then we will convert this 2-D list into 1-D list"
   ]
  },
  {
   "cell_type": "code",
   "execution_count": null,
   "id": "0b8e0587",
   "metadata": {},
   "outputs": [],
   "source": [
    "total_reviews_2D = list(reviews_tokens_clean)"
   ]
  },
  {
   "cell_type": "code",
   "execution_count": null,
   "id": "b32d000a",
   "metadata": {},
   "outputs": [],
   "source": [
    "total_reviews_1D = []\n",
    "\n",
    "for review in total_reviews_2D:\n",
    "    for word in review:\n",
    "        total_reviews_1D.append(word)"
   ]
  },
  {
   "cell_type": "code",
   "execution_count": null,
   "id": "f41bc741",
   "metadata": {},
   "outputs": [],
   "source": [
    "total_reviews_1D"
   ]
  },
  {
   "cell_type": "markdown",
   "id": "e93ee0e3",
   "metadata": {},
   "source": [
    "#### e) Do plotting\n",
    "1..Unigram analysis\n",
    "\n",
    "2..Bigram Analysis\n",
    "\n",
    "3..Trigram analysis"
   ]
  },
  {
   "cell_type": "markdown",
   "id": "95ee962d",
   "metadata": {},
   "source": [
    "### 1..Unigram analysis"
   ]
  },
  {
   "cell_type": "code",
   "execution_count": null,
   "id": "d6832cae",
   "metadata": {},
   "outputs": [],
   "source": [
    "# obtain the frequency of individual words in the reviews, for this u have to use FreqDist .. "
   ]
  },
  {
   "cell_type": "code",
   "execution_count": null,
   "id": "d8bc111a",
   "metadata": {},
   "outputs": [],
   "source": [
    "from nltk import FreqDist"
   ]
  },
  {
   "cell_type": "code",
   "execution_count": null,
   "id": "eb9597fa",
   "metadata": {},
   "outputs": [],
   "source": [
    "fd=FreqDist()"
   ]
  },
  {
   "cell_type": "code",
   "execution_count": 21,
   "id": "7d996008",
   "metadata": {},
   "outputs": [
    {
     "ename": "NameError",
     "evalue": "name 'total_reviews_1D' is not defined",
     "output_type": "error",
     "traceback": [
      "\u001b[1;31m---------------------------------------------------------------------------\u001b[0m",
      "\u001b[1;31mNameError\u001b[0m                                 Traceback (most recent call last)",
      "Cell \u001b[1;32mIn[21], line 1\u001b[0m\n\u001b[1;32m----> 1\u001b[0m \u001b[38;5;28;01mfor\u001b[39;00m word \u001b[38;5;129;01min\u001b[39;00m \u001b[43mtotal_reviews_1D\u001b[49m:\n\u001b[0;32m      2\u001b[0m     fd[word] \u001b[38;5;241m=\u001b[39m fd[word] \u001b[38;5;241m+\u001b[39m \u001b[38;5;241m1\u001b[39m\n",
      "\u001b[1;31mNameError\u001b[0m: name 'total_reviews_1D' is not defined"
     ]
    }
   ],
   "source": [
    "for word in total_reviews_1D:\n",
    "    fd[word] = fd[word] + 1"
   ]
  },
  {
   "cell_type": "code",
   "execution_count": 22,
   "id": "045b8131",
   "metadata": {},
   "outputs": [
    {
     "ename": "NameError",
     "evalue": "name 'fd' is not defined",
     "output_type": "error",
     "traceback": [
      "\u001b[1;31m---------------------------------------------------------------------------\u001b[0m",
      "\u001b[1;31mNameError\u001b[0m                                 Traceback (most recent call last)",
      "Cell \u001b[1;32mIn[22], line 2\u001b[0m\n\u001b[0;32m      1\u001b[0m \u001b[38;5;66;03m# Examining the top 20 most frequent words\u001b[39;00m\n\u001b[1;32m----> 2\u001b[0m \u001b[43mfd\u001b[49m\u001b[38;5;241m.\u001b[39mmost_common(\u001b[38;5;241m20\u001b[39m)\n",
      "\u001b[1;31mNameError\u001b[0m: name 'fd' is not defined"
     ]
    }
   ],
   "source": [
    "# Examining the top 20 most frequent words\n",
    "fd.most_common(20)"
   ]
  },
  {
   "cell_type": "code",
   "execution_count": 23,
   "id": "89342f69",
   "metadata": {},
   "outputs": [
    {
     "ename": "NameError",
     "evalue": "name 'fd' is not defined",
     "output_type": "error",
     "traceback": [
      "\u001b[1;31m---------------------------------------------------------------------------\u001b[0m",
      "\u001b[1;31mNameError\u001b[0m                                 Traceback (most recent call last)",
      "Cell \u001b[1;32mIn[23], line 2\u001b[0m\n\u001b[0;32m      1\u001b[0m \u001b[38;5;66;03m# Plotting the top 20 most frequent words\u001b[39;00m\n\u001b[1;32m----> 2\u001b[0m \u001b[43mfd\u001b[49m\u001b[38;5;241m.\u001b[39mplot(\u001b[38;5;241m20\u001b[39m)\n",
      "\u001b[1;31mNameError\u001b[0m: name 'fd' is not defined"
     ]
    }
   ],
   "source": [
    "# Plotting the top 20 most frequent words\n",
    "fd.plot(20)"
   ]
  },
  {
   "cell_type": "code",
   "execution_count": 24,
   "id": "33b24f7f",
   "metadata": {},
   "outputs": [],
   "source": [
    "## Observations\n",
    "## Of the 20 most frequent words across customer reviews place, food , good , chicken ,taste ,service ,biryani\n",
    "\n",
    "## but it is not that much clear whether food is good or not , \n",
    "## similarly what about chicken ??\n",
    "## so to come up with meaningful insights , we can think of using Bi-gram analysis.."
   ]
  },
  {
   "cell_type": "markdown",
   "id": "cdcc957c",
   "metadata": {},
   "source": [
    "# 6.. Performing Bi-gram & Trigram analysis on data"
   ]
  },
  {
   "cell_type": "code",
   "execution_count": 25,
   "id": "347696fe",
   "metadata": {},
   "outputs": [],
   "source": [
    "from nltk import bigrams,trigrams,FreqDist"
   ]
  },
  {
   "cell_type": "code",
   "execution_count": 26,
   "id": "0856851f",
   "metadata": {},
   "outputs": [],
   "source": [
    "# Generating bigrams from the reviews"
   ]
  },
  {
   "cell_type": "code",
   "execution_count": 27,
   "id": "a67d37f1",
   "metadata": {},
   "outputs": [
    {
     "ename": "NameError",
     "evalue": "name 'total_reviews_1D' is not defined",
     "output_type": "error",
     "traceback": [
      "\u001b[1;31m---------------------------------------------------------------------------\u001b[0m",
      "\u001b[1;31mNameError\u001b[0m                                 Traceback (most recent call last)",
      "Cell \u001b[1;32mIn[27], line 1\u001b[0m\n\u001b[1;32m----> 1\u001b[0m bi_grams \u001b[38;5;241m=\u001b[39m bigrams(\u001b[43mtotal_reviews_1D\u001b[49m)\n",
      "\u001b[1;31mNameError\u001b[0m: name 'total_reviews_1D' is not defined"
     ]
    }
   ],
   "source": [
    "bi_grams = bigrams(total_reviews_1D)"
   ]
  },
  {
   "cell_type": "code",
   "execution_count": 28,
   "id": "b2326e05",
   "metadata": {},
   "outputs": [
    {
     "ename": "NameError",
     "evalue": "name 'bi_grams' is not defined",
     "output_type": "error",
     "traceback": [
      "\u001b[1;31m---------------------------------------------------------------------------\u001b[0m",
      "\u001b[1;31mNameError\u001b[0m                                 Traceback (most recent call last)",
      "Cell \u001b[1;32mIn[28], line 1\u001b[0m\n\u001b[1;32m----> 1\u001b[0m \u001b[43mbi_grams\u001b[49m\n",
      "\u001b[1;31mNameError\u001b[0m: name 'bi_grams' is not defined"
     ]
    }
   ],
   "source": [
    "bi_grams"
   ]
  },
  {
   "cell_type": "code",
   "execution_count": 29,
   "id": "f9c43a26",
   "metadata": {},
   "outputs": [
    {
     "ename": "NameError",
     "evalue": "name 'bi_grams' is not defined",
     "output_type": "error",
     "traceback": [
      "\u001b[1;31m---------------------------------------------------------------------------\u001b[0m",
      "\u001b[1;31mNameError\u001b[0m                                 Traceback (most recent call last)",
      "Cell \u001b[1;32mIn[29], line 3\u001b[0m\n\u001b[0;32m      1\u001b[0m \u001b[38;5;66;03m# Getting the bigram frequency distribution\u001b[39;00m\n\u001b[0;32m      2\u001b[0m fd_bigrams\u001b[38;5;241m=\u001b[39mFreqDist()\n\u001b[1;32m----> 3\u001b[0m \u001b[38;5;28;01mfor\u001b[39;00m bigram \u001b[38;5;129;01min\u001b[39;00m \u001b[43mbi_grams\u001b[49m:\n\u001b[0;32m      4\u001b[0m     fd_bigrams[bigram]\u001b[38;5;241m=\u001b[39mfd_bigrams[bigram]\u001b[38;5;241m+\u001b[39m\u001b[38;5;241m1\u001b[39m\n",
      "\u001b[1;31mNameError\u001b[0m: name 'bi_grams' is not defined"
     ]
    }
   ],
   "source": [
    "# Getting the bigram frequency distribution\n",
    "fd_bigrams=FreqDist()\n",
    "for bigram in bi_grams:\n",
    "    fd_bigrams[bigram]=fd_bigrams[bigram]+1"
   ]
  },
  {
   "cell_type": "code",
   "execution_count": 30,
   "id": "49f63954",
   "metadata": {},
   "outputs": [
    {
     "data": {
      "text/plain": [
       "[]"
      ]
     },
     "execution_count": 30,
     "metadata": {},
     "output_type": "execute_result"
    }
   ],
   "source": [
    "fd_bigrams.most_common(50)"
   ]
  },
  {
   "cell_type": "code",
   "execution_count": 31,
   "id": "d5c56c7b",
   "metadata": {},
   "outputs": [
    {
     "data": {
      "image/png": "[encoded data removed]",
      "text/plain": [
       "<Figure size 640x480 with 1 Axes>"
      ]
     },
     "metadata": {},
     "output_type": "display_data"
    },
    {
     "data": {
      "text/plain": [
       "<Axes: xlabel='Samples', ylabel='Counts'>"
      ]
     },
     "execution_count": 31,
     "metadata": {},
     "output_type": "execute_result"
    }
   ],
   "source": [
    "fd_bigrams.plot(20)"
   ]
  },
  {
   "cell_type": "code",
   "execution_count": 32,
   "id": "be0da69e",
   "metadata": {},
   "outputs": [
    {
     "data": {
      "text/plain": [
       "[]"
      ]
     },
     "execution_count": 32,
     "metadata": {},
     "output_type": "execute_result"
    }
   ],
   "source": [
    "fd_bigrams.most_common(100)"
   ]
  },
  {
   "cell_type": "markdown",
   "id": "7f4537e5",
   "metadata": {},
   "source": [
    "Observations\n",
    "\n",
    "We have some new insights! Food items/preferences mentioned in the top 50 bigrams are \n",
    "\n",
    "Fried Rice , Ice cream , non-veg , chicken biryani , main course\n",
    "Fried Rice\n",
    "\n",
    "\n",
    "Factors contributing to restaurant experience are : \n",
    "\n",
    "good food > pocket friendly > good place > good place > value (for) money  > Home delivery..\n",
    "\n",
    "There's a key insight here: the expense factor, which was missed by individual word frequency counts, \n",
    "was picked up by the bigram frequency counts."
   ]
  },
  {
   "cell_type": "code",
   "execution_count": 33,
   "id": "12121a99",
   "metadata": {},
   "outputs": [],
   "source": [
    "### but there is no conclusion about north Indian or south Indian bcz it can be dish or it can be regional people as well..\n",
    "### so lets perform trigram anlysis to come up with some more meaningful insights.."
   ]
  },
  {
   "cell_type": "markdown",
   "id": "06bff195",
   "metadata": {},
   "source": [
    "### c.. Trigram Analysis"
   ]
  },
  {
   "cell_type": "code",
   "execution_count": 34,
   "id": "a915ac2b",
   "metadata": {},
   "outputs": [
    {
     "ename": "NameError",
     "evalue": "name 'total_reviews_1D' is not defined",
     "output_type": "error",
     "traceback": [
      "\u001b[1;31m---------------------------------------------------------------------------\u001b[0m",
      "\u001b[1;31mNameError\u001b[0m                                 Traceback (most recent call last)",
      "Cell \u001b[1;32mIn[34], line 1\u001b[0m\n\u001b[1;32m----> 1\u001b[0m tri_grams \u001b[38;5;241m=\u001b[39m trigrams(\u001b[43mtotal_reviews_1D\u001b[49m)\n",
      "\u001b[1;31mNameError\u001b[0m: name 'total_reviews_1D' is not defined"
     ]
    }
   ],
   "source": [
    "tri_grams = trigrams(total_reviews_1D)"
   ]
  },
  {
   "cell_type": "code",
   "execution_count": 35,
   "id": "cfd10023",
   "metadata": {},
   "outputs": [
    {
     "ename": "NameError",
     "evalue": "name 'tri_grams' is not defined",
     "output_type": "error",
     "traceback": [
      "\u001b[1;31m---------------------------------------------------------------------------\u001b[0m",
      "\u001b[1;31mNameError\u001b[0m                                 Traceback (most recent call last)",
      "Cell \u001b[1;32mIn[35], line 4\u001b[0m\n\u001b[0;32m      1\u001b[0m \u001b[38;5;66;03m# Generating trigrams from the reviews\u001b[39;00m\n\u001b[0;32m      2\u001b[0m fd_trigrams \u001b[38;5;241m=\u001b[39m FreqDist()\n\u001b[1;32m----> 4\u001b[0m \u001b[38;5;28;01mfor\u001b[39;00m trigram \u001b[38;5;129;01min\u001b[39;00m \u001b[43mtri_grams\u001b[49m:\n\u001b[0;32m      5\u001b[0m     fd_trigrams[trigram] \u001b[38;5;241m=\u001b[39m fd_trigrams[trigram] \u001b[38;5;241m+\u001b[39m \u001b[38;5;241m1\u001b[39m\n",
      "\u001b[1;31mNameError\u001b[0m: name 'tri_grams' is not defined"
     ]
    }
   ],
   "source": [
    "\n",
    "# Generating trigrams from the reviews\n",
    "fd_trigrams = FreqDist()\n",
    "\n",
    "for trigram in tri_grams:\n",
    "    fd_trigrams[trigram] = fd_trigrams[trigram] + 1"
   ]
  },
  {
   "cell_type": "code",
   "execution_count": 36,
   "id": "bd179b89",
   "metadata": {},
   "outputs": [
    {
     "data": {
      "text/plain": [
       "[]"
      ]
     },
     "execution_count": 36,
     "metadata": {},
     "output_type": "execute_result"
    }
   ],
   "source": [
    "fd_trigrams.most_common(50)"
   ]
  },
  {
   "cell_type": "code",
   "execution_count": 37,
   "id": "3c80e8f0",
   "metadata": {},
   "outputs": [
    {
     "data": {
      "image/png": "[encoded data removed]",
      "text/plain": [
       "<Figure size 640x480 with 1 Axes>"
      ]
     },
     "metadata": {},
     "output_type": "display_data"
    },
    {
     "data": {
      "text/plain": [
       "<Axes: xlabel='Samples', ylabel='Counts'>"
      ]
     },
     "execution_count": 37,
     "metadata": {},
     "output_type": "execute_result"
    }
   ],
   "source": [
    "fd_trigrams.plot(20)"
   ]
  },
  {
   "cell_type": "markdown",
   "id": "b254bec2",
   "metadata": {},
   "source": [
    "### Observations\n",
    "There appears to be some bad data (strings of \"f f f\") somewhere in the reviews, but we'll ignore that.\n",
    "\n",
    "The specific food preferences we can see here are north Indian Food , paneer butter masala,\n",
    "\n",
    "South Indian food & chicken fried rice...\n",
    "\n",
    "ie , Bangalore is full of chicken lovers..."
   ]
  },
  {
   "cell_type": "code",
   "execution_count": 38,
   "id": "62ff6108",
   "metadata": {},
   "outputs": [],
   "source": [
    "### Similarly we can use cuisines features for Text Analysis as well.."
   ]
  },
  {
   "cell_type": "markdown",
   "id": "0bb88194",
   "metadata": {},
   "source": [
    "# 7.. Extract geographical-coordinates from data ..\n",
    "Prb st : where are most of the North-Indian restaurants situated in Bengaluru ? \n",
    "          First extract latitudes & longitudes from data so that we are able to use maps.."
   ]
  },
  {
   "cell_type": "code",
   "execution_count": 39,
   "id": "4e988fd2",
   "metadata": {},
   "outputs": [
    {
     "data": {
      "text/html": [
       "<div>\n",
       "<style scoped>\n",
       "    .dataframe tbody tr th:only-of-type {\n",
       "        vertical-align: middle;\n",
       "    }\n",
       "\n",
       "    .dataframe tbody tr th {\n",
       "        vertical-align: top;\n",
       "    }\n",
       "\n",
       "    .dataframe thead th {\n",
       "        text-align: right;\n",
       "    }\n",
       "</style>\n",
       "<table border=\"1\" class=\"dataframe\">\n",
       "  <thead>\n",
       "    <tr style=\"text-align: right;\">\n",
       "      <th></th>\n",
       "      <th>index</th>\n",
       "      <th>url</th>\n",
       "      <th>address</th>\n",
       "      <th>name</th>\n",
       "      <th>online_order</th>\n",
       "      <th>book_table</th>\n",
       "      <th>rate</th>\n",
       "      <th>votes</th>\n",
       "      <th>phone</th>\n",
       "      <th>location</th>\n",
       "      <th>rest_type</th>\n",
       "      <th>dish_liked</th>\n",
       "      <th>cuisines</th>\n",
       "      <th>approx_cost(for two people)</th>\n",
       "      <th>reviews_list</th>\n",
       "      <th>menu_item</th>\n",
       "      <th>listed_in(type)</th>\n",
       "      <th>listed_in(city)</th>\n",
       "    </tr>\n",
       "  </thead>\n",
       "  <tbody>\n",
       "    <tr>\n",
       "      <th>0</th>\n",
       "      <td>0</td>\n",
       "      <td>https://www.zomato.com/bangalore/jalsa-banasha...</td>\n",
       "      <td>942, 21st Main Road, 2nd Stage, Banashankari, ...</td>\n",
       "      <td>Jalsa</td>\n",
       "      <td>Yes</td>\n",
       "      <td>Yes</td>\n",
       "      <td>4.1/5</td>\n",
       "      <td>775</td>\n",
       "      <td>080 42297555\\r\\n+91 9743772233</td>\n",
       "      <td>Banashankari</td>\n",
       "      <td>Casual Dining</td>\n",
       "      <td>Pasta, Lunch Buffet, Masala Papad, Paneer Laja...</td>\n",
       "      <td>North Indian, Mughlai, Chinese</td>\n",
       "      <td>800</td>\n",
       "      <td>[('Rated 4.0', 'RATED\\n  A beautiful place to ...</td>\n",
       "      <td>[]</td>\n",
       "      <td>Buffet</td>\n",
       "      <td>Banashankari</td>\n",
       "    </tr>\n",
       "    <tr>\n",
       "      <th>1</th>\n",
       "      <td>1</td>\n",
       "      <td>https://www.zomato.com/bangalore/spice-elephan...</td>\n",
       "      <td>2nd Floor, 80 Feet Road, Near Big Bazaar, 6th ...</td>\n",
       "      <td>Spice Elephant</td>\n",
       "      <td>Yes</td>\n",
       "      <td>No</td>\n",
       "      <td>4.1/5</td>\n",
       "      <td>787</td>\n",
       "      <td>080 41714161</td>\n",
       "      <td>Banashankari</td>\n",
       "      <td>Casual Dining</td>\n",
       "      <td>Momos, Lunch Buffet, Chocolate Nirvana, Thai G...</td>\n",
       "      <td>Chinese, North Indian, Thai</td>\n",
       "      <td>800</td>\n",
       "      <td>[('Rated 4.0', 'RATED\\n  Had been here for din...</td>\n",
       "      <td>[]</td>\n",
       "      <td>Buffet</td>\n",
       "      <td>Banashankari</td>\n",
       "    </tr>\n",
       "    <tr>\n",
       "      <th>2</th>\n",
       "      <td>2</td>\n",
       "      <td>https://www.zomato.com/SanchurroBangalore?cont...</td>\n",
       "      <td>1112, Next to KIMS Medical College, 17th Cross...</td>\n",
       "      <td>San Churro Cafe</td>\n",
       "      <td>Yes</td>\n",
       "      <td>No</td>\n",
       "      <td>3.8/5</td>\n",
       "      <td>918</td>\n",
       "      <td>+91 9663487993</td>\n",
       "      <td>Banashankari</td>\n",
       "      <td>Cafe, Casual Dining</td>\n",
       "      <td>Churros, Cannelloni, Minestrone Soup, Hot Choc...</td>\n",
       "      <td>Cafe, Mexican, Italian</td>\n",
       "      <td>800</td>\n",
       "      <td>[('Rated 3.0', \"RATED\\n  Ambience is not that ...</td>\n",
       "      <td>[]</td>\n",
       "      <td>Buffet</td>\n",
       "      <td>Banashankari</td>\n",
       "    </tr>\n",
       "  </tbody>\n",
       "</table>\n",
       "</div>"
      ],
      "text/plain": [
       "   index                                                url  \\\n",
       "0      0  https://www.zomato.com/bangalore/jalsa-banasha...   \n",
       "1      1  https://www.zomato.com/bangalore/spice-elephan...   \n",
       "2      2  https://www.zomato.com/SanchurroBangalore?cont...   \n",
       "\n",
       "                                             address             name  \\\n",
       "0  942, 21st Main Road, 2nd Stage, Banashankari, ...            Jalsa   \n",
       "1  2nd Floor, 80 Feet Road, Near Big Bazaar, 6th ...   Spice Elephant   \n",
       "2  1112, Next to KIMS Medical College, 17th Cross...  San Churro Cafe   \n",
       "\n",
       "  online_order book_table   rate  votes                           phone  \\\n",
       "0          Yes        Yes  4.1/5    775  080 42297555\\r\\n+91 9743772233   \n",
       "1          Yes         No  4.1/5    787                    080 41714161   \n",
       "2          Yes         No  3.8/5    918                  +91 9663487993   \n",
       "\n",
       "       location            rest_type  \\\n",
       "0  Banashankari        Casual Dining   \n",
       "1  Banashankari        Casual Dining   \n",
       "2  Banashankari  Cafe, Casual Dining   \n",
       "\n",
       "                                          dish_liked  \\\n",
       "0  Pasta, Lunch Buffet, Masala Papad, Paneer Laja...   \n",
       "1  Momos, Lunch Buffet, Chocolate Nirvana, Thai G...   \n",
       "2  Churros, Cannelloni, Minestrone Soup, Hot Choc...   \n",
       "\n",
       "                         cuisines approx_cost(for two people)  \\\n",
       "0  North Indian, Mughlai, Chinese                         800   \n",
       "1     Chinese, North Indian, Thai                         800   \n",
       "2          Cafe, Mexican, Italian                         800   \n",
       "\n",
       "                                        reviews_list menu_item  \\\n",
       "0  [('Rated 4.0', 'RATED\\n  A beautiful place to ...        []   \n",
       "1  [('Rated 4.0', 'RATED\\n  Had been here for din...        []   \n",
       "2  [('Rated 3.0', \"RATED\\n  Ambience is not that ...        []   \n",
       "\n",
       "  listed_in(type) listed_in(city)  \n",
       "0          Buffet    Banashankari  \n",
       "1          Buffet    Banashankari  \n",
       "2          Buffet    Banashankari  "
      ]
     },
     "execution_count": 39,
     "metadata": {},
     "output_type": "execute_result"
    }
   ],
   "source": [
    "df.head(3)"
   ]
  },
  {
   "cell_type": "code",
   "execution_count": 40,
   "id": "c3036250",
   "metadata": {},
   "outputs": [
    {
     "name": "stdout",
     "output_type": "stream",
     "text": [
      "Requirement already satisfied: geocoder in c:\\hello world\\lib\\site-packages (1.38.1)\n",
      "Requirement already satisfied: six in c:\\hello world\\lib\\site-packages (from geocoder) (1.16.0)\n",
      "Requirement already satisfied: click in c:\\hello world\\lib\\site-packages (from geocoder) (8.0.4)\n",
      "Requirement already satisfied: future in c:\\hello world\\lib\\site-packages (from geocoder) (0.18.3)\n",
      "Requirement already satisfied: requests in c:\\hello world\\lib\\site-packages (from geocoder) (2.28.1)\n",
      "Requirement already satisfied: ratelim in c:\\hello world\\lib\\site-packages (from geocoder) (0.1.6)\n",
      "Requirement already satisfied: colorama in c:\\hello world\\lib\\site-packages (from click->geocoder) (0.4.6)\n",
      "Requirement already satisfied: decorator in c:\\hello world\\lib\\site-packages (from ratelim->geocoder) (5.1.1)\n",
      "Requirement already satisfied: urllib3<1.27,>=1.21.1 in c:\\hello world\\lib\\site-packages (from requests->geocoder) (1.26.14)\n",
      "Requirement already satisfied: charset-normalizer<3,>=2 in c:\\hello world\\lib\\site-packages (from requests->geocoder) (2.0.4)\n",
      "Requirement already satisfied: certifi>=2017.4.17 in c:\\hello world\\lib\\site-packages (from requests->geocoder) (2022.12.7)\n",
      "Requirement already satisfied: idna<4,>=2.5 in c:\\hello world\\lib\\site-packages (from requests->geocoder) (3.4)\n",
      "Requirement already satisfied: geopy in c:\\hello world\\lib\\site-packages (2.4.1)\n",
      "Requirement already satisfied: geographiclib<3,>=1.52 in c:\\hello world\\lib\\site-packages (from geopy) (2.0)\n"
     ]
    }
   ],
   "source": [
    "!pip install geocoder\n",
    "!pip install geopy"
   ]
  },
  {
   "cell_type": "code",
   "execution_count": 41,
   "id": "3ab85676",
   "metadata": {},
   "outputs": [],
   "source": [
    "### lets make these below places more accurate , so that we are able to extract more accurate latitudes & longitudes\n",
    "### otherwise it might return geographical co-ordinates outside of Bengaluru as well "
   ]
  },
  {
   "cell_type": "code",
   "execution_count": 42,
   "id": "a9beccea",
   "metadata": {},
   "outputs": [
    {
     "data": {
      "text/plain": [
       "0                      Banashankari\n",
       "1                      Banashankari\n",
       "2                      Banashankari\n",
       "3                      Banashankari\n",
       "4                      Basavanagudi\n",
       "                    ...            \n",
       "51712                    Whitefield\n",
       "51713                    Whitefield\n",
       "51714                    Whitefield\n",
       "51715    ITPL Main Road, Whitefield\n",
       "51716    ITPL Main Road, Whitefield\n",
       "Name: location, Length: 51717, dtype: object"
      ]
     },
     "execution_count": 42,
     "metadata": {},
     "output_type": "execute_result"
    }
   ],
   "source": [
    "df[\"location\"]"
   ]
  },
  {
   "cell_type": "code",
   "execution_count": 43,
   "id": "e063c0fd",
   "metadata": {},
   "outputs": [
    {
     "data": {
      "text/plain": [
       "array(['Banashankari', 'Basavanagudi', 'Mysore Road', 'Jayanagar',\n",
       "       'Kumaraswamy Layout', 'Rajarajeshwari Nagar', 'Vijay Nagar',\n",
       "       'Uttarahalli', 'JP Nagar', 'South Bangalore', 'City Market',\n",
       "       'Nagarbhavi', 'Bannerghatta Road', 'BTM', 'Kanakapura Road',\n",
       "       'Bommanahalli', None, 'CV Raman Nagar', 'Electronic City', 'HSR',\n",
       "       'Marathahalli', 'Sarjapur Road', 'Wilson Garden', 'Shanti Nagar',\n",
       "       'Koramangala 5th Block', 'Koramangala 8th Block', 'Richmond Road',\n",
       "       'Koramangala 7th Block', 'Jalahalli', 'Koramangala 4th Block',\n",
       "       'Bellandur', 'Whitefield', 'East Bangalore', 'Old Airport Road',\n",
       "       'Indiranagar', 'Koramangala 1st Block', 'Frazer Town', 'RT Nagar',\n",
       "       'MG Road', 'Brigade Road', 'Lavelle Road', 'Church Street',\n",
       "       'Ulsoor', 'Residency Road', 'Shivajinagar', 'Infantry Road',\n",
       "       'St. Marks Road', 'Cunningham Road', 'Race Course Road',\n",
       "       'Commercial Street', 'Vasanth Nagar', 'HBR Layout', 'Domlur',\n",
       "       'Ejipura', 'Jeevan Bhima Nagar', 'Old Madras Road', 'Malleshwaram',\n",
       "       'Seshadripuram', 'Kammanahalli', 'Koramangala 6th Block',\n",
       "       'Majestic', 'Langford Town', 'Central Bangalore', 'Sanjay Nagar',\n",
       "       'Brookefield', 'ITPL Main Road, Whitefield',\n",
       "       'Varthur Main Road, Whitefield', 'KR Puram',\n",
       "       'Koramangala 2nd Block', 'Koramangala 3rd Block', 'Koramangala',\n",
       "       'Hosur Road', 'Rajajinagar', 'Banaswadi', 'North Bangalore',\n",
       "       'Nagawara', 'Hennur', 'Kalyan Nagar', 'New BEL Road', 'Jakkur',\n",
       "       'Rammurthy Nagar', 'Thippasandra', 'Kaggadasapura', 'Hebbal',\n",
       "       'Kengeri', 'Sankey Road', 'Sadashiv Nagar', 'Basaveshwara Nagar',\n",
       "       'Yeshwantpur', 'West Bangalore', 'Magadi Road', 'Yelahanka',\n",
       "       'Sahakara Nagar', 'Peenya'], dtype=object)"
      ]
     },
     "execution_count": 43,
     "metadata": {},
     "output_type": "execute_result"
    }
   ],
   "source": [
    "df[\"location\"].unique()"
   ]
  },
  {
   "cell_type": "code",
   "execution_count": 44,
   "id": "190d044f",
   "metadata": {},
   "outputs": [
    {
     "data": {
      "text/plain": [
       "94"
      ]
     },
     "execution_count": 44,
     "metadata": {},
     "output_type": "execute_result"
    }
   ],
   "source": [
    "len(df[\"location\"].unique())"
   ]
  },
  {
   "cell_type": "code",
   "execution_count": null,
   "id": "dcaeda24",
   "metadata": {},
   "outputs": [],
   "source": []
  },
  {
   "cell_type": "code",
   "execution_count": 45,
   "id": "9a732708",
   "metadata": {},
   "outputs": [],
   "source": [
    "### Lets add 'Bangalore , Karnataka , India' so that u will get more more accurate geographical co-ordinates..\n",
    "\n",
    "df['location'] = df['location'] + \" , Bangalore  , Karnataka , India \""
   ]
  },
  {
   "cell_type": "code",
   "execution_count": 46,
   "id": "8893a555",
   "metadata": {},
   "outputs": [
    {
     "data": {
      "text/plain": [
       "0           Banashankari , Bangalore  , Karnataka , India \n",
       "1           Banashankari , Bangalore  , Karnataka , India \n",
       "2           Banashankari , Bangalore  , Karnataka , India \n",
       "3           Banashankari , Bangalore  , Karnataka , India \n",
       "4           Basavanagudi , Bangalore  , Karnataka , India \n",
       "                               ...                        \n",
       "51712         Whitefield , Bangalore  , Karnataka , India \n",
       "51713         Whitefield , Bangalore  , Karnataka , India \n",
       "51714         Whitefield , Bangalore  , Karnataka , India \n",
       "51715    ITPL Main Road, Whitefield , Bangalore  , Karn...\n",
       "51716    ITPL Main Road, Whitefield , Bangalore  , Karn...\n",
       "Name: location, Length: 51717, dtype: object"
      ]
     },
     "execution_count": 46,
     "metadata": {},
     "output_type": "execute_result"
    }
   ],
   "source": [
    "df['location']"
   ]
  },
  {
   "cell_type": "code",
   "execution_count": 47,
   "id": "96436e99",
   "metadata": {},
   "outputs": [
    {
     "data": {
      "text/plain": [
       "array(['Banashankari , Bangalore  , Karnataka , India ',\n",
       "       'Basavanagudi , Bangalore  , Karnataka , India ',\n",
       "       'Mysore Road , Bangalore  , Karnataka , India ',\n",
       "       'Jayanagar , Bangalore  , Karnataka , India ',\n",
       "       'Kumaraswamy Layout , Bangalore  , Karnataka , India ',\n",
       "       'Rajarajeshwari Nagar , Bangalore  , Karnataka , India ',\n",
       "       'Vijay Nagar , Bangalore  , Karnataka , India ',\n",
       "       'Uttarahalli , Bangalore  , Karnataka , India ',\n",
       "       'JP Nagar , Bangalore  , Karnataka , India ',\n",
       "       'South Bangalore , Bangalore  , Karnataka , India ',\n",
       "       'City Market , Bangalore  , Karnataka , India ',\n",
       "       'Nagarbhavi , Bangalore  , Karnataka , India ',\n",
       "       'Bannerghatta Road , Bangalore  , Karnataka , India ',\n",
       "       'BTM , Bangalore  , Karnataka , India ',\n",
       "       'Kanakapura Road , Bangalore  , Karnataka , India ',\n",
       "       'Bommanahalli , Bangalore  , Karnataka , India ', nan,\n",
       "       'CV Raman Nagar , Bangalore  , Karnataka , India ',\n",
       "       'Electronic City , Bangalore  , Karnataka , India ',\n",
       "       'HSR , Bangalore  , Karnataka , India ',\n",
       "       'Marathahalli , Bangalore  , Karnataka , India ',\n",
       "       'Sarjapur Road , Bangalore  , Karnataka , India ',\n",
       "       'Wilson Garden , Bangalore  , Karnataka , India ',\n",
       "       'Shanti Nagar , Bangalore  , Karnataka , India ',\n",
       "       'Koramangala 5th Block , Bangalore  , Karnataka , India ',\n",
       "       'Koramangala 8th Block , Bangalore  , Karnataka , India ',\n",
       "       'Richmond Road , Bangalore  , Karnataka , India ',\n",
       "       'Koramangala 7th Block , Bangalore  , Karnataka , India ',\n",
       "       'Jalahalli , Bangalore  , Karnataka , India ',\n",
       "       'Koramangala 4th Block , Bangalore  , Karnataka , India ',\n",
       "       'Bellandur , Bangalore  , Karnataka , India ',\n",
       "       'Whitefield , Bangalore  , Karnataka , India ',\n",
       "       'East Bangalore , Bangalore  , Karnataka , India ',\n",
       "       'Old Airport Road , Bangalore  , Karnataka , India ',\n",
       "       'Indiranagar , Bangalore  , Karnataka , India ',\n",
       "       'Koramangala 1st Block , Bangalore  , Karnataka , India ',\n",
       "       'Frazer Town , Bangalore  , Karnataka , India ',\n",
       "       'RT Nagar , Bangalore  , Karnataka , India ',\n",
       "       'MG Road , Bangalore  , Karnataka , India ',\n",
       "       'Brigade Road , Bangalore  , Karnataka , India ',\n",
       "       'Lavelle Road , Bangalore  , Karnataka , India ',\n",
       "       'Church Street , Bangalore  , Karnataka , India ',\n",
       "       'Ulsoor , Bangalore  , Karnataka , India ',\n",
       "       'Residency Road , Bangalore  , Karnataka , India ',\n",
       "       'Shivajinagar , Bangalore  , Karnataka , India ',\n",
       "       'Infantry Road , Bangalore  , Karnataka , India ',\n",
       "       'St. Marks Road , Bangalore  , Karnataka , India ',\n",
       "       'Cunningham Road , Bangalore  , Karnataka , India ',\n",
       "       'Race Course Road , Bangalore  , Karnataka , India ',\n",
       "       'Commercial Street , Bangalore  , Karnataka , India ',\n",
       "       'Vasanth Nagar , Bangalore  , Karnataka , India ',\n",
       "       'HBR Layout , Bangalore  , Karnataka , India ',\n",
       "       'Domlur , Bangalore  , Karnataka , India ',\n",
       "       'Ejipura , Bangalore  , Karnataka , India ',\n",
       "       'Jeevan Bhima Nagar , Bangalore  , Karnataka , India ',\n",
       "       'Old Madras Road , Bangalore  , Karnataka , India ',\n",
       "       'Malleshwaram , Bangalore  , Karnataka , India ',\n",
       "       'Seshadripuram , Bangalore  , Karnataka , India ',\n",
       "       'Kammanahalli , Bangalore  , Karnataka , India ',\n",
       "       'Koramangala 6th Block , Bangalore  , Karnataka , India ',\n",
       "       'Majestic , Bangalore  , Karnataka , India ',\n",
       "       'Langford Town , Bangalore  , Karnataka , India ',\n",
       "       'Central Bangalore , Bangalore  , Karnataka , India ',\n",
       "       'Sanjay Nagar , Bangalore  , Karnataka , India ',\n",
       "       'Brookefield , Bangalore  , Karnataka , India ',\n",
       "       'ITPL Main Road, Whitefield , Bangalore  , Karnataka , India ',\n",
       "       'Varthur Main Road, Whitefield , Bangalore  , Karnataka , India ',\n",
       "       'KR Puram , Bangalore  , Karnataka , India ',\n",
       "       'Koramangala 2nd Block , Bangalore  , Karnataka , India ',\n",
       "       'Koramangala 3rd Block , Bangalore  , Karnataka , India ',\n",
       "       'Koramangala , Bangalore  , Karnataka , India ',\n",
       "       'Hosur Road , Bangalore  , Karnataka , India ',\n",
       "       'Rajajinagar , Bangalore  , Karnataka , India ',\n",
       "       'Banaswadi , Bangalore  , Karnataka , India ',\n",
       "       'North Bangalore , Bangalore  , Karnataka , India ',\n",
       "       'Nagawara , Bangalore  , Karnataka , India ',\n",
       "       'Hennur , Bangalore  , Karnataka , India ',\n",
       "       'Kalyan Nagar , Bangalore  , Karnataka , India ',\n",
       "       'New BEL Road , Bangalore  , Karnataka , India ',\n",
       "       'Jakkur , Bangalore  , Karnataka , India ',\n",
       "       'Rammurthy Nagar , Bangalore  , Karnataka , India ',\n",
       "       'Thippasandra , Bangalore  , Karnataka , India ',\n",
       "       'Kaggadasapura , Bangalore  , Karnataka , India ',\n",
       "       'Hebbal , Bangalore  , Karnataka , India ',\n",
       "       'Kengeri , Bangalore  , Karnataka , India ',\n",
       "       'Sankey Road , Bangalore  , Karnataka , India ',\n",
       "       'Sadashiv Nagar , Bangalore  , Karnataka , India ',\n",
       "       'Basaveshwara Nagar , Bangalore  , Karnataka , India ',\n",
       "       'Yeshwantpur , Bangalore  , Karnataka , India ',\n",
       "       'West Bangalore , Bangalore  , Karnataka , India ',\n",
       "       'Magadi Road , Bangalore  , Karnataka , India ',\n",
       "       'Yelahanka , Bangalore  , Karnataka , India ',\n",
       "       'Sahakara Nagar , Bangalore  , Karnataka , India ',\n",
       "       'Peenya , Bangalore  , Karnataka , India '], dtype=object)"
      ]
     },
     "execution_count": 47,
     "metadata": {},
     "output_type": "execute_result"
    }
   ],
   "source": [
    "df['location'].unique()"
   ]
  },
  {
   "cell_type": "code",
   "execution_count": 48,
   "id": "c9025927",
   "metadata": {},
   "outputs": [],
   "source": [
    "df_copy = df.copy()"
   ]
  },
  {
   "cell_type": "code",
   "execution_count": 49,
   "id": "8b33a49a",
   "metadata": {},
   "outputs": [
    {
     "data": {
      "text/plain": [
       "21"
      ]
     },
     "execution_count": 49,
     "metadata": {},
     "output_type": "execute_result"
    }
   ],
   "source": [
    "df_copy['location'].isnull().sum()"
   ]
  },
  {
   "cell_type": "code",
   "execution_count": 50,
   "id": "aa3ab3c8",
   "metadata": {},
   "outputs": [],
   "source": [
    "df_copy = df_copy.dropna(subset=['location'])"
   ]
  },
  {
   "cell_type": "code",
   "execution_count": 51,
   "id": "3e5d3733",
   "metadata": {},
   "outputs": [
    {
     "data": {
      "text/plain": [
       "0"
      ]
     },
     "execution_count": 51,
     "metadata": {},
     "output_type": "execute_result"
    }
   ],
   "source": [
    "df_copy['location'].isnull().sum()"
   ]
  },
  {
   "cell_type": "code",
   "execution_count": 52,
   "id": "8ccb744b",
   "metadata": {},
   "outputs": [],
   "source": [
    "locations = pd.DataFrame(df_copy['location'].unique())"
   ]
  },
  {
   "cell_type": "code",
   "execution_count": 53,
   "id": "fd186264",
   "metadata": {},
   "outputs": [],
   "source": [
    "locations.columns = ['name']"
   ]
  },
  {
   "cell_type": "code",
   "execution_count": 54,
   "id": "a0beb02e",
   "metadata": {},
   "outputs": [
    {
     "data": {
      "text/html": [
       "<div>\n",
       "<style scoped>\n",
       "    .dataframe tbody tr th:only-of-type {\n",
       "        vertical-align: middle;\n",
       "    }\n",
       "\n",
       "    .dataframe tbody tr th {\n",
       "        vertical-align: top;\n",
       "    }\n",
       "\n",
       "    .dataframe thead th {\n",
       "        text-align: right;\n",
       "    }\n",
       "</style>\n",
       "<table border=\"1\" class=\"dataframe\">\n",
       "  <thead>\n",
       "    <tr style=\"text-align: right;\">\n",
       "      <th></th>\n",
       "      <th>name</th>\n",
       "    </tr>\n",
       "  </thead>\n",
       "  <tbody>\n",
       "    <tr>\n",
       "      <th>0</th>\n",
       "      <td>Banashankari , Bangalore  , Karnataka , India</td>\n",
       "    </tr>\n",
       "    <tr>\n",
       "      <th>1</th>\n",
       "      <td>Basavanagudi , Bangalore  , Karnataka , India</td>\n",
       "    </tr>\n",
       "    <tr>\n",
       "      <th>2</th>\n",
       "      <td>Mysore Road , Bangalore  , Karnataka , India</td>\n",
       "    </tr>\n",
       "    <tr>\n",
       "      <th>3</th>\n",
       "      <td>Jayanagar , Bangalore  , Karnataka , India</td>\n",
       "    </tr>\n",
       "    <tr>\n",
       "      <th>4</th>\n",
       "      <td>Kumaraswamy Layout , Bangalore  , Karnataka , ...</td>\n",
       "    </tr>\n",
       "    <tr>\n",
       "      <th>...</th>\n",
       "      <td>...</td>\n",
       "    </tr>\n",
       "    <tr>\n",
       "      <th>88</th>\n",
       "      <td>West Bangalore , Bangalore  , Karnataka , India</td>\n",
       "    </tr>\n",
       "    <tr>\n",
       "      <th>89</th>\n",
       "      <td>Magadi Road , Bangalore  , Karnataka , India</td>\n",
       "    </tr>\n",
       "    <tr>\n",
       "      <th>90</th>\n",
       "      <td>Yelahanka , Bangalore  , Karnataka , India</td>\n",
       "    </tr>\n",
       "    <tr>\n",
       "      <th>91</th>\n",
       "      <td>Sahakara Nagar , Bangalore  , Karnataka , India</td>\n",
       "    </tr>\n",
       "    <tr>\n",
       "      <th>92</th>\n",
       "      <td>Peenya , Bangalore  , Karnataka , India</td>\n",
       "    </tr>\n",
       "  </tbody>\n",
       "</table>\n",
       "<p>93 rows × 1 columns</p>\n",
       "</div>"
      ],
      "text/plain": [
       "                                                 name\n",
       "0      Banashankari , Bangalore  , Karnataka , India \n",
       "1      Basavanagudi , Bangalore  , Karnataka , India \n",
       "2       Mysore Road , Bangalore  , Karnataka , India \n",
       "3         Jayanagar , Bangalore  , Karnataka , India \n",
       "4   Kumaraswamy Layout , Bangalore  , Karnataka , ...\n",
       "..                                                ...\n",
       "88   West Bangalore , Bangalore  , Karnataka , India \n",
       "89      Magadi Road , Bangalore  , Karnataka , India \n",
       "90        Yelahanka , Bangalore  , Karnataka , India \n",
       "91   Sahakara Nagar , Bangalore  , Karnataka , India \n",
       "92           Peenya , Bangalore  , Karnataka , India \n",
       "\n",
       "[93 rows x 1 columns]"
      ]
     },
     "execution_count": 54,
     "metadata": {},
     "output_type": "execute_result"
    }
   ],
   "source": [
    "locations"
   ]
  },
  {
   "cell_type": "code",
   "execution_count": 55,
   "id": "6e2d7e25",
   "metadata": {},
   "outputs": [],
   "source": [
    "from geopy.geocoders import Nominatim"
   ]
  },
  {
   "cell_type": "code",
   "execution_count": 56,
   "id": "fc9cbc08",
   "metadata": {},
   "outputs": [],
   "source": [
    "### assign timeout=None in order to get rid of timeout error.\n",
    "geolocator=Nominatim(user_agent=\"app\",timeout=None)"
   ]
  },
  {
   "cell_type": "code",
   "execution_count": 58,
   "id": "60f188db",
   "metadata": {},
   "outputs": [],
   "source": [
    "lat=[]\n",
    "lon=[]\n",
    "for location in locations[\"name\"]:\n",
    "    location=geolocator.geocode(location)\n",
    "    if location is None:\n",
    "        lat.append(np.nan)\n",
    "        lon.append(np.nan)\n",
    "    else:\n",
    "        lat.append(location.latitude)\n",
    "        lon.append(location.longitude)\n",
    "        "
   ]
  },
  {
   "cell_type": "code",
   "execution_count": 59,
   "id": "e2352330",
   "metadata": {},
   "outputs": [],
   "source": [
    "locations['latitude'] = lat\n",
    "locations['longitude'] = lon"
   ]
  },
  {
   "cell_type": "markdown",
   "id": "737cd40f",
   "metadata": {},
   "source": [
    "We have found out latitude and longitude of each location listed in the dataset using geopy\n",
    "This is used to plot maps."
   ]
  },
  {
   "cell_type": "code",
   "execution_count": 60,
   "id": "96dd3b1a",
   "metadata": {},
   "outputs": [
    {
     "data": {
      "text/html": [
       "<div>\n",
       "<style scoped>\n",
       "    .dataframe tbody tr th:only-of-type {\n",
       "        vertical-align: middle;\n",
       "    }\n",
       "\n",
       "    .dataframe tbody tr th {\n",
       "        vertical-align: top;\n",
       "    }\n",
       "\n",
       "    .dataframe thead th {\n",
       "        text-align: right;\n",
       "    }\n",
       "</style>\n",
       "<table border=\"1\" class=\"dataframe\">\n",
       "  <thead>\n",
       "    <tr style=\"text-align: right;\">\n",
       "      <th></th>\n",
       "      <th>name</th>\n",
       "      <th>latitude</th>\n",
       "      <th>longitude</th>\n",
       "    </tr>\n",
       "  </thead>\n",
       "  <tbody>\n",
       "    <tr>\n",
       "      <th>0</th>\n",
       "      <td>Banashankari , Bangalore  , Karnataka , India</td>\n",
       "      <td>12.915219</td>\n",
       "      <td>77.573621</td>\n",
       "    </tr>\n",
       "    <tr>\n",
       "      <th>1</th>\n",
       "      <td>Basavanagudi , Bangalore  , Karnataka , India</td>\n",
       "      <td>12.941726</td>\n",
       "      <td>77.575502</td>\n",
       "    </tr>\n",
       "    <tr>\n",
       "      <th>2</th>\n",
       "      <td>Mysore Road , Bangalore  , Karnataka , India</td>\n",
       "      <td>12.946662</td>\n",
       "      <td>77.530090</td>\n",
       "    </tr>\n",
       "    <tr>\n",
       "      <th>3</th>\n",
       "      <td>Jayanagar , Bangalore  , Karnataka , India</td>\n",
       "      <td>12.929273</td>\n",
       "      <td>77.582423</td>\n",
       "    </tr>\n",
       "    <tr>\n",
       "      <th>4</th>\n",
       "      <td>Kumaraswamy Layout , Bangalore  , Karnataka , ...</td>\n",
       "      <td>12.908149</td>\n",
       "      <td>77.555318</td>\n",
       "    </tr>\n",
       "    <tr>\n",
       "      <th>...</th>\n",
       "      <td>...</td>\n",
       "      <td>...</td>\n",
       "      <td>...</td>\n",
       "    </tr>\n",
       "    <tr>\n",
       "      <th>88</th>\n",
       "      <td>West Bangalore , Bangalore  , Karnataka , India</td>\n",
       "      <td>13.022235</td>\n",
       "      <td>77.567183</td>\n",
       "    </tr>\n",
       "    <tr>\n",
       "      <th>89</th>\n",
       "      <td>Magadi Road , Bangalore  , Karnataka , India</td>\n",
       "      <td>12.975608</td>\n",
       "      <td>77.555356</td>\n",
       "    </tr>\n",
       "    <tr>\n",
       "      <th>90</th>\n",
       "      <td>Yelahanka , Bangalore  , Karnataka , India</td>\n",
       "      <td>13.100698</td>\n",
       "      <td>77.596345</td>\n",
       "    </tr>\n",
       "    <tr>\n",
       "      <th>91</th>\n",
       "      <td>Sahakara Nagar , Bangalore  , Karnataka , India</td>\n",
       "      <td>13.062147</td>\n",
       "      <td>77.580061</td>\n",
       "    </tr>\n",
       "    <tr>\n",
       "      <th>92</th>\n",
       "      <td>Peenya , Bangalore  , Karnataka , India</td>\n",
       "      <td>13.032942</td>\n",
       "      <td>77.527325</td>\n",
       "    </tr>\n",
       "  </tbody>\n",
       "</table>\n",
       "<p>93 rows × 3 columns</p>\n",
       "</div>"
      ],
      "text/plain": [
       "                                                 name   latitude  longitude\n",
       "0      Banashankari , Bangalore  , Karnataka , India   12.915219  77.573621\n",
       "1      Basavanagudi , Bangalore  , Karnataka , India   12.941726  77.575502\n",
       "2       Mysore Road , Bangalore  , Karnataka , India   12.946662  77.530090\n",
       "3         Jayanagar , Bangalore  , Karnataka , India   12.929273  77.582423\n",
       "4   Kumaraswamy Layout , Bangalore  , Karnataka , ...  12.908149  77.555318\n",
       "..                                                ...        ...        ...\n",
       "88   West Bangalore , Bangalore  , Karnataka , India   13.022235  77.567183\n",
       "89      Magadi Road , Bangalore  , Karnataka , India   12.975608  77.555356\n",
       "90        Yelahanka , Bangalore  , Karnataka , India   13.100698  77.596345\n",
       "91   Sahakara Nagar , Bangalore  , Karnataka , India   13.062147  77.580061\n",
       "92           Peenya , Bangalore  , Karnataka , India   13.032942  77.527325\n",
       "\n",
       "[93 rows x 3 columns]"
      ]
     },
     "execution_count": 60,
     "metadata": {},
     "output_type": "execute_result"
    }
   ],
   "source": [
    "locations"
   ]
  },
  {
   "cell_type": "markdown",
   "id": "4326a3f5",
   "metadata": {},
   "source": [
    "# 8.. Lets build geographical Heat-Map"
   ]
  },
  {
   "cell_type": "code",
   "execution_count": 61,
   "id": "ab0fa224",
   "metadata": {},
   "outputs": [
    {
     "data": {
      "text/plain": [
       "name         0\n",
       "latitude     2\n",
       "longitude    2\n",
       "dtype: int64"
      ]
     },
     "execution_count": 61,
     "metadata": {},
     "output_type": "execute_result"
    }
   ],
   "source": [
    "### lets figure it out whether we have misssing values or not !\n",
    "locations.isnull().sum()"
   ]
  },
  {
   "cell_type": "code",
   "execution_count": 62,
   "id": "c35831e2",
   "metadata": {},
   "outputs": [
    {
     "data": {
      "text/html": [
       "<div>\n",
       "<style scoped>\n",
       "    .dataframe tbody tr th:only-of-type {\n",
       "        vertical-align: middle;\n",
       "    }\n",
       "\n",
       "    .dataframe tbody tr th {\n",
       "        vertical-align: top;\n",
       "    }\n",
       "\n",
       "    .dataframe thead th {\n",
       "        text-align: right;\n",
       "    }\n",
       "</style>\n",
       "<table border=\"1\" class=\"dataframe\">\n",
       "  <thead>\n",
       "    <tr style=\"text-align: right;\">\n",
       "      <th></th>\n",
       "      <th>name</th>\n",
       "      <th>latitude</th>\n",
       "      <th>longitude</th>\n",
       "    </tr>\n",
       "  </thead>\n",
       "  <tbody>\n",
       "    <tr>\n",
       "      <th>79</th>\n",
       "      <td>Rammurthy Nagar , Bangalore  , Karnataka , India</td>\n",
       "      <td>NaN</td>\n",
       "      <td>NaN</td>\n",
       "    </tr>\n",
       "    <tr>\n",
       "      <th>85</th>\n",
       "      <td>Sadashiv Nagar , Bangalore  , Karnataka , India</td>\n",
       "      <td>NaN</td>\n",
       "      <td>NaN</td>\n",
       "    </tr>\n",
       "  </tbody>\n",
       "</table>\n",
       "</div>"
      ],
      "text/plain": [
       "                                                 name  latitude  longitude\n",
       "79  Rammurthy Nagar , Bangalore  , Karnataka , India        NaN        NaN\n",
       "85   Sadashiv Nagar , Bangalore  , Karnataka , India        NaN        NaN"
      ]
     },
     "execution_count": 62,
     "metadata": {},
     "output_type": "execute_result"
    }
   ],
   "source": [
    "locations[locations['latitude'].isna()]"
   ]
  },
  {
   "cell_type": "code",
   "execution_count": 63,
   "id": "01380752",
   "metadata": {},
   "outputs": [],
   "source": [
    "### lets take help of google in such circumstances..\n",
    "### google as \"co-ordinates of St. Marks Road bengalore\" , so co-ordinates as :\n",
    "### 12.9764122° N(Latitude), 77.6017437° E(Longitude)"
   ]
  },
  {
   "cell_type": "code",
   "execution_count": 64,
   "id": "e04a0e8b",
   "metadata": {},
   "outputs": [],
   "source": [
    "import warnings\n",
    "from warnings import filterwarnings\n",
    "filterwarnings('ignore')"
   ]
  },
  {
   "cell_type": "code",
   "execution_count": 65,
   "id": "8d1f7167",
   "metadata": {},
   "outputs": [],
   "source": [
    "locations['latitude'][79] = 13.0163\n",
    "locations['longitude'][79] = 77.6785"
   ]
  },
  {
   "cell_type": "code",
   "execution_count": 66,
   "id": "dc2a1f29",
   "metadata": {},
   "outputs": [],
   "source": [
    "locations['latitude'][85] = 13.0068\n",
    "locations['longitude'][85] = 77.5813"
   ]
  },
  {
   "cell_type": "code",
   "execution_count": 69,
   "id": "27d1a1a3",
   "metadata": {},
   "outputs": [
    {
     "data": {
      "text/plain": [
       "45"
      ]
     },
     "execution_count": 69,
     "metadata": {},
     "output_type": "execute_result"
    }
   ],
   "source": [
    "df['cuisines'].isnull().sum()"
   ]
  },
  {
   "cell_type": "code",
   "execution_count": 70,
   "id": "4a6f2159",
   "metadata": {},
   "outputs": [],
   "source": [
    "df=df.dropna(subset=[\"cuisines\"])"
   ]
  },
  {
   "cell_type": "code",
   "execution_count": 71,
   "id": "ed6b63af",
   "metadata": {},
   "outputs": [],
   "source": [
    "### lets find it out what are those areas where we have most number of North-Indian restaurants ?\n",
    "## ie lets extract dataframe of only 'North Indian' cuisine restaurant..\n",
    "\n",
    "north_india = df[df['cuisines'].str.contains('North Indian')]"
   ]
  },
  {
   "cell_type": "code",
   "execution_count": 72,
   "id": "c615c988",
   "metadata": {},
   "outputs": [
    {
     "data": {
      "text/plain": [
       "(21085, 18)"
      ]
     },
     "execution_count": 72,
     "metadata": {},
     "output_type": "execute_result"
    }
   ],
   "source": [
    "north_india.shape"
   ]
  },
  {
   "cell_type": "code",
   "execution_count": 74,
   "id": "b844f119",
   "metadata": {},
   "outputs": [
    {
     "data": {
      "text/html": [
       "<div>\n",
       "<style scoped>\n",
       "    .dataframe tbody tr th:only-of-type {\n",
       "        vertical-align: middle;\n",
       "    }\n",
       "\n",
       "    .dataframe tbody tr th {\n",
       "        vertical-align: top;\n",
       "    }\n",
       "\n",
       "    .dataframe thead th {\n",
       "        text-align: right;\n",
       "    }\n",
       "</style>\n",
       "<table border=\"1\" class=\"dataframe\">\n",
       "  <thead>\n",
       "    <tr style=\"text-align: right;\">\n",
       "      <th></th>\n",
       "      <th>index</th>\n",
       "      <th>url</th>\n",
       "      <th>address</th>\n",
       "      <th>name</th>\n",
       "      <th>online_order</th>\n",
       "      <th>book_table</th>\n",
       "      <th>rate</th>\n",
       "      <th>votes</th>\n",
       "      <th>phone</th>\n",
       "      <th>location</th>\n",
       "      <th>rest_type</th>\n",
       "      <th>dish_liked</th>\n",
       "      <th>cuisines</th>\n",
       "      <th>approx_cost(for two people)</th>\n",
       "      <th>reviews_list</th>\n",
       "      <th>menu_item</th>\n",
       "      <th>listed_in(type)</th>\n",
       "      <th>listed_in(city)</th>\n",
       "    </tr>\n",
       "  </thead>\n",
       "  <tbody>\n",
       "    <tr>\n",
       "      <th>0</th>\n",
       "      <td>0</td>\n",
       "      <td>https://www.zomato.com/bangalore/jalsa-banasha...</td>\n",
       "      <td>942, 21st Main Road, 2nd Stage, Banashankari, ...</td>\n",
       "      <td>Jalsa</td>\n",
       "      <td>Yes</td>\n",
       "      <td>Yes</td>\n",
       "      <td>4.1/5</td>\n",
       "      <td>775</td>\n",
       "      <td>080 42297555\\r\\n+91 9743772233</td>\n",
       "      <td>Banashankari , Bangalore  , Karnataka , India</td>\n",
       "      <td>Casual Dining</td>\n",
       "      <td>Pasta, Lunch Buffet, Masala Papad, Paneer Laja...</td>\n",
       "      <td>North Indian, Mughlai, Chinese</td>\n",
       "      <td>800</td>\n",
       "      <td>[('Rated 4.0', 'RATED\\n  A beautiful place to ...</td>\n",
       "      <td>[]</td>\n",
       "      <td>Buffet</td>\n",
       "      <td>Banashankari</td>\n",
       "    </tr>\n",
       "    <tr>\n",
       "      <th>1</th>\n",
       "      <td>1</td>\n",
       "      <td>https://www.zomato.com/bangalore/spice-elephan...</td>\n",
       "      <td>2nd Floor, 80 Feet Road, Near Big Bazaar, 6th ...</td>\n",
       "      <td>Spice Elephant</td>\n",
       "      <td>Yes</td>\n",
       "      <td>No</td>\n",
       "      <td>4.1/5</td>\n",
       "      <td>787</td>\n",
       "      <td>080 41714161</td>\n",
       "      <td>Banashankari , Bangalore  , Karnataka , India</td>\n",
       "      <td>Casual Dining</td>\n",
       "      <td>Momos, Lunch Buffet, Chocolate Nirvana, Thai G...</td>\n",
       "      <td>Chinese, North Indian, Thai</td>\n",
       "      <td>800</td>\n",
       "      <td>[('Rated 4.0', 'RATED\\n  Had been here for din...</td>\n",
       "      <td>[]</td>\n",
       "      <td>Buffet</td>\n",
       "      <td>Banashankari</td>\n",
       "    </tr>\n",
       "  </tbody>\n",
       "</table>\n",
       "</div>"
      ],
      "text/plain": [
       "   index                                                url  \\\n",
       "0      0  https://www.zomato.com/bangalore/jalsa-banasha...   \n",
       "1      1  https://www.zomato.com/bangalore/spice-elephan...   \n",
       "\n",
       "                                             address            name  \\\n",
       "0  942, 21st Main Road, 2nd Stage, Banashankari, ...           Jalsa   \n",
       "1  2nd Floor, 80 Feet Road, Near Big Bazaar, 6th ...  Spice Elephant   \n",
       "\n",
       "  online_order book_table   rate  votes                           phone  \\\n",
       "0          Yes        Yes  4.1/5    775  080 42297555\\r\\n+91 9743772233   \n",
       "1          Yes         No  4.1/5    787                    080 41714161   \n",
       "\n",
       "                                         location      rest_type  \\\n",
       "0  Banashankari , Bangalore  , Karnataka , India   Casual Dining   \n",
       "1  Banashankari , Bangalore  , Karnataka , India   Casual Dining   \n",
       "\n",
       "                                          dish_liked  \\\n",
       "0  Pasta, Lunch Buffet, Masala Papad, Paneer Laja...   \n",
       "1  Momos, Lunch Buffet, Chocolate Nirvana, Thai G...   \n",
       "\n",
       "                         cuisines approx_cost(for two people)  \\\n",
       "0  North Indian, Mughlai, Chinese                         800   \n",
       "1     Chinese, North Indian, Thai                         800   \n",
       "\n",
       "                                        reviews_list menu_item  \\\n",
       "0  [('Rated 4.0', 'RATED\\n  A beautiful place to ...        []   \n",
       "1  [('Rated 4.0', 'RATED\\n  Had been here for din...        []   \n",
       "\n",
       "  listed_in(type) listed_in(city)  \n",
       "0          Buffet    Banashankari  \n",
       "1          Buffet    Banashankari  "
      ]
     },
     "execution_count": 74,
     "metadata": {},
     "output_type": "execute_result"
    }
   ],
   "source": [
    "north_india.head(2)"
   ]
  },
  {
   "cell_type": "code",
   "execution_count": 75,
   "id": "2829f0d8",
   "metadata": {},
   "outputs": [],
   "source": [
    "north_india_rest_count = north_india['location'].value_counts().reset_index().rename(columns={'index':'name' , \"location\":\"count\"})"
   ]
  },
  {
   "cell_type": "code",
   "execution_count": 76,
   "id": "f7ffe8fb",
   "metadata": {},
   "outputs": [
    {
     "data": {
      "text/html": [
       "<div>\n",
       "<style scoped>\n",
       "    .dataframe tbody tr th:only-of-type {\n",
       "        vertical-align: middle;\n",
       "    }\n",
       "\n",
       "    .dataframe tbody tr th {\n",
       "        vertical-align: top;\n",
       "    }\n",
       "\n",
       "    .dataframe thead th {\n",
       "        text-align: right;\n",
       "    }\n",
       "</style>\n",
       "<table border=\"1\" class=\"dataframe\">\n",
       "  <thead>\n",
       "    <tr style=\"text-align: right;\">\n",
       "      <th></th>\n",
       "      <th>name</th>\n",
       "      <th>count</th>\n",
       "    </tr>\n",
       "  </thead>\n",
       "  <tbody>\n",
       "    <tr>\n",
       "      <th>0</th>\n",
       "      <td>BTM , Bangalore  , Karnataka , India</td>\n",
       "      <td>2469</td>\n",
       "    </tr>\n",
       "    <tr>\n",
       "      <th>1</th>\n",
       "      <td>HSR , Bangalore  , Karnataka , India</td>\n",
       "      <td>1123</td>\n",
       "    </tr>\n",
       "    <tr>\n",
       "      <th>2</th>\n",
       "      <td>Whitefield , Bangalore  , Karnataka , India</td>\n",
       "      <td>1059</td>\n",
       "    </tr>\n",
       "    <tr>\n",
       "      <th>3</th>\n",
       "      <td>Marathahalli , Bangalore  , Karnataka , India</td>\n",
       "      <td>1038</td>\n",
       "    </tr>\n",
       "    <tr>\n",
       "      <th>4</th>\n",
       "      <td>JP Nagar , Bangalore  , Karnataka , India</td>\n",
       "      <td>958</td>\n",
       "    </tr>\n",
       "    <tr>\n",
       "      <th>...</th>\n",
       "      <td>...</td>\n",
       "      <td>...</td>\n",
       "    </tr>\n",
       "    <tr>\n",
       "      <th>85</th>\n",
       "      <td>Hebbal , Bangalore  , Karnataka , India</td>\n",
       "      <td>4</td>\n",
       "    </tr>\n",
       "    <tr>\n",
       "      <th>86</th>\n",
       "      <td>Jakkur , Bangalore  , Karnataka , India</td>\n",
       "      <td>3</td>\n",
       "    </tr>\n",
       "    <tr>\n",
       "      <th>87</th>\n",
       "      <td>Central Bangalore , Bangalore  , Karnataka , I...</td>\n",
       "      <td>2</td>\n",
       "    </tr>\n",
       "    <tr>\n",
       "      <th>88</th>\n",
       "      <td>West Bangalore , Bangalore  , Karnataka , India</td>\n",
       "      <td>1</td>\n",
       "    </tr>\n",
       "    <tr>\n",
       "      <th>89</th>\n",
       "      <td>Peenya , Bangalore  , Karnataka , India</td>\n",
       "      <td>1</td>\n",
       "    </tr>\n",
       "  </tbody>\n",
       "</table>\n",
       "<p>90 rows × 2 columns</p>\n",
       "</div>"
      ],
      "text/plain": [
       "                                                 name  count\n",
       "0               BTM , Bangalore  , Karnataka , India    2469\n",
       "1               HSR , Bangalore  , Karnataka , India    1123\n",
       "2        Whitefield , Bangalore  , Karnataka , India    1059\n",
       "3      Marathahalli , Bangalore  , Karnataka , India    1038\n",
       "4          JP Nagar , Bangalore  , Karnataka , India     958\n",
       "..                                                ...    ...\n",
       "85           Hebbal , Bangalore  , Karnataka , India       4\n",
       "86           Jakkur , Bangalore  , Karnataka , India       3\n",
       "87  Central Bangalore , Bangalore  , Karnataka , I...      2\n",
       "88   West Bangalore , Bangalore  , Karnataka , India       1\n",
       "89           Peenya , Bangalore  , Karnataka , India       1\n",
       "\n",
       "[90 rows x 2 columns]"
      ]
     },
     "execution_count": 76,
     "metadata": {},
     "output_type": "execute_result"
    }
   ],
   "source": [
    "north_india_rest_count"
   ]
  },
  {
   "cell_type": "code",
   "execution_count": 77,
   "id": "5b990e13",
   "metadata": {},
   "outputs": [
    {
     "data": {
      "text/html": [
       "<div>\n",
       "<style scoped>\n",
       "    .dataframe tbody tr th:only-of-type {\n",
       "        vertical-align: middle;\n",
       "    }\n",
       "\n",
       "    .dataframe tbody tr th {\n",
       "        vertical-align: top;\n",
       "    }\n",
       "\n",
       "    .dataframe thead th {\n",
       "        text-align: right;\n",
       "    }\n",
       "</style>\n",
       "<table border=\"1\" class=\"dataframe\">\n",
       "  <thead>\n",
       "    <tr style=\"text-align: right;\">\n",
       "      <th></th>\n",
       "      <th>name</th>\n",
       "      <th>latitude</th>\n",
       "      <th>longitude</th>\n",
       "    </tr>\n",
       "  </thead>\n",
       "  <tbody>\n",
       "    <tr>\n",
       "      <th>0</th>\n",
       "      <td>Banashankari , Bangalore  , Karnataka , India</td>\n",
       "      <td>12.915219</td>\n",
       "      <td>77.573621</td>\n",
       "    </tr>\n",
       "    <tr>\n",
       "      <th>1</th>\n",
       "      <td>Basavanagudi , Bangalore  , Karnataka , India</td>\n",
       "      <td>12.941726</td>\n",
       "      <td>77.575502</td>\n",
       "    </tr>\n",
       "    <tr>\n",
       "      <th>2</th>\n",
       "      <td>Mysore Road , Bangalore  , Karnataka , India</td>\n",
       "      <td>12.946662</td>\n",
       "      <td>77.530090</td>\n",
       "    </tr>\n",
       "    <tr>\n",
       "      <th>3</th>\n",
       "      <td>Jayanagar , Bangalore  , Karnataka , India</td>\n",
       "      <td>12.929273</td>\n",
       "      <td>77.582423</td>\n",
       "    </tr>\n",
       "    <tr>\n",
       "      <th>4</th>\n",
       "      <td>Kumaraswamy Layout , Bangalore  , Karnataka , ...</td>\n",
       "      <td>12.908149</td>\n",
       "      <td>77.555318</td>\n",
       "    </tr>\n",
       "    <tr>\n",
       "      <th>...</th>\n",
       "      <td>...</td>\n",
       "      <td>...</td>\n",
       "      <td>...</td>\n",
       "    </tr>\n",
       "    <tr>\n",
       "      <th>88</th>\n",
       "      <td>West Bangalore , Bangalore  , Karnataka , India</td>\n",
       "      <td>13.022235</td>\n",
       "      <td>77.567183</td>\n",
       "    </tr>\n",
       "    <tr>\n",
       "      <th>89</th>\n",
       "      <td>Magadi Road , Bangalore  , Karnataka , India</td>\n",
       "      <td>12.975608</td>\n",
       "      <td>77.555356</td>\n",
       "    </tr>\n",
       "    <tr>\n",
       "      <th>90</th>\n",
       "      <td>Yelahanka , Bangalore  , Karnataka , India</td>\n",
       "      <td>13.100698</td>\n",
       "      <td>77.596345</td>\n",
       "    </tr>\n",
       "    <tr>\n",
       "      <th>91</th>\n",
       "      <td>Sahakara Nagar , Bangalore  , Karnataka , India</td>\n",
       "      <td>13.062147</td>\n",
       "      <td>77.580061</td>\n",
       "    </tr>\n",
       "    <tr>\n",
       "      <th>92</th>\n",
       "      <td>Peenya , Bangalore  , Karnataka , India</td>\n",
       "      <td>13.032942</td>\n",
       "      <td>77.527325</td>\n",
       "    </tr>\n",
       "  </tbody>\n",
       "</table>\n",
       "<p>93 rows × 3 columns</p>\n",
       "</div>"
      ],
      "text/plain": [
       "                                                 name   latitude  longitude\n",
       "0      Banashankari , Bangalore  , Karnataka , India   12.915219  77.573621\n",
       "1      Basavanagudi , Bangalore  , Karnataka , India   12.941726  77.575502\n",
       "2       Mysore Road , Bangalore  , Karnataka , India   12.946662  77.530090\n",
       "3         Jayanagar , Bangalore  , Karnataka , India   12.929273  77.582423\n",
       "4   Kumaraswamy Layout , Bangalore  , Karnataka , ...  12.908149  77.555318\n",
       "..                                                ...        ...        ...\n",
       "88   West Bangalore , Bangalore  , Karnataka , India   13.022235  77.567183\n",
       "89      Magadi Road , Bangalore  , Karnataka , India   12.975608  77.555356\n",
       "90        Yelahanka , Bangalore  , Karnataka , India   13.100698  77.596345\n",
       "91   Sahakara Nagar , Bangalore  , Karnataka , India   13.062147  77.580061\n",
       "92           Peenya , Bangalore  , Karnataka , India   13.032942  77.527325\n",
       "\n",
       "[93 rows x 3 columns]"
      ]
     },
     "execution_count": 77,
     "metadata": {},
     "output_type": "execute_result"
    }
   ],
   "source": [
    "locations"
   ]
  },
  {
   "cell_type": "code",
   "execution_count": 78,
   "id": "e7305de3",
   "metadata": {},
   "outputs": [],
   "source": [
    "### lets create Heatmap of this results so that it becomes more user-friendly..\n",
    "## now In order to perform Spatial Anlysis(Geographical Analysis) , we need latitudes & longitudes of every location..\n",
    "\n",
    "### so lets merge both the dataframes or append one into another in order to get geographical co-ordinates..\n",
    "heatmap_df = north_india_rest_count.merge(locations , on='name' , how='left')"
   ]
  },
  {
   "cell_type": "code",
   "execution_count": 79,
   "id": "11b4d634",
   "metadata": {},
   "outputs": [
    {
     "data": {
      "text/html": [
       "<div>\n",
       "<style scoped>\n",
       "    .dataframe tbody tr th:only-of-type {\n",
       "        vertical-align: middle;\n",
       "    }\n",
       "\n",
       "    .dataframe tbody tr th {\n",
       "        vertical-align: top;\n",
       "    }\n",
       "\n",
       "    .dataframe thead th {\n",
       "        text-align: right;\n",
       "    }\n",
       "</style>\n",
       "<table border=\"1\" class=\"dataframe\">\n",
       "  <thead>\n",
       "    <tr style=\"text-align: right;\">\n",
       "      <th></th>\n",
       "      <th>name</th>\n",
       "      <th>count</th>\n",
       "      <th>latitude</th>\n",
       "      <th>longitude</th>\n",
       "    </tr>\n",
       "  </thead>\n",
       "  <tbody>\n",
       "    <tr>\n",
       "      <th>0</th>\n",
       "      <td>BTM , Bangalore  , Karnataka , India</td>\n",
       "      <td>2469</td>\n",
       "      <td>12.911276</td>\n",
       "      <td>77.604565</td>\n",
       "    </tr>\n",
       "    <tr>\n",
       "      <th>1</th>\n",
       "      <td>HSR , Bangalore  , Karnataka , India</td>\n",
       "      <td>1123</td>\n",
       "      <td>12.911623</td>\n",
       "      <td>77.638862</td>\n",
       "    </tr>\n",
       "    <tr>\n",
       "      <th>2</th>\n",
       "      <td>Whitefield , Bangalore  , Karnataka , India</td>\n",
       "      <td>1059</td>\n",
       "      <td>12.969637</td>\n",
       "      <td>77.749745</td>\n",
       "    </tr>\n",
       "    <tr>\n",
       "      <th>3</th>\n",
       "      <td>Marathahalli , Bangalore  , Karnataka , India</td>\n",
       "      <td>1038</td>\n",
       "      <td>12.955257</td>\n",
       "      <td>77.698416</td>\n",
       "    </tr>\n",
       "    <tr>\n",
       "      <th>4</th>\n",
       "      <td>JP Nagar , Bangalore  , Karnataka , India</td>\n",
       "      <td>958</td>\n",
       "      <td>12.912264</td>\n",
       "      <td>77.590457</td>\n",
       "    </tr>\n",
       "    <tr>\n",
       "      <th>...</th>\n",
       "      <td>...</td>\n",
       "      <td>...</td>\n",
       "      <td>...</td>\n",
       "      <td>...</td>\n",
       "    </tr>\n",
       "    <tr>\n",
       "      <th>85</th>\n",
       "      <td>Hebbal , Bangalore  , Karnataka , India</td>\n",
       "      <td>4</td>\n",
       "      <td>13.038218</td>\n",
       "      <td>77.591900</td>\n",
       "    </tr>\n",
       "    <tr>\n",
       "      <th>86</th>\n",
       "      <td>Jakkur , Bangalore  , Karnataka , India</td>\n",
       "      <td>3</td>\n",
       "      <td>13.078474</td>\n",
       "      <td>77.606894</td>\n",
       "    </tr>\n",
       "    <tr>\n",
       "      <th>87</th>\n",
       "      <td>Central Bangalore , Bangalore  , Karnataka , I...</td>\n",
       "      <td>2</td>\n",
       "      <td>12.973393</td>\n",
       "      <td>77.611234</td>\n",
       "    </tr>\n",
       "    <tr>\n",
       "      <th>88</th>\n",
       "      <td>West Bangalore , Bangalore  , Karnataka , India</td>\n",
       "      <td>1</td>\n",
       "      <td>13.022235</td>\n",
       "      <td>77.567183</td>\n",
       "    </tr>\n",
       "    <tr>\n",
       "      <th>89</th>\n",
       "      <td>Peenya , Bangalore  , Karnataka , India</td>\n",
       "      <td>1</td>\n",
       "      <td>13.032942</td>\n",
       "      <td>77.527325</td>\n",
       "    </tr>\n",
       "  </tbody>\n",
       "</table>\n",
       "<p>90 rows × 4 columns</p>\n",
       "</div>"
      ],
      "text/plain": [
       "                                                 name  count   latitude  \\\n",
       "0               BTM , Bangalore  , Karnataka , India    2469  12.911276   \n",
       "1               HSR , Bangalore  , Karnataka , India    1123  12.911623   \n",
       "2        Whitefield , Bangalore  , Karnataka , India    1059  12.969637   \n",
       "3      Marathahalli , Bangalore  , Karnataka , India    1038  12.955257   \n",
       "4          JP Nagar , Bangalore  , Karnataka , India     958  12.912264   \n",
       "..                                                ...    ...        ...   \n",
       "85           Hebbal , Bangalore  , Karnataka , India       4  13.038218   \n",
       "86           Jakkur , Bangalore  , Karnataka , India       3  13.078474   \n",
       "87  Central Bangalore , Bangalore  , Karnataka , I...      2  12.973393   \n",
       "88   West Bangalore , Bangalore  , Karnataka , India       1  13.022235   \n",
       "89           Peenya , Bangalore  , Karnataka , India       1  13.032942   \n",
       "\n",
       "    longitude  \n",
       "0   77.604565  \n",
       "1   77.638862  \n",
       "2   77.749745  \n",
       "3   77.698416  \n",
       "4   77.590457  \n",
       "..        ...  \n",
       "85  77.591900  \n",
       "86  77.606894  \n",
       "87  77.611234  \n",
       "88  77.567183  \n",
       "89  77.527325  \n",
       "\n",
       "[90 rows x 4 columns]"
      ]
     },
     "execution_count": 79,
     "metadata": {},
     "output_type": "execute_result"
    }
   ],
   "source": [
    "heatmap_df"
   ]
  },
  {
   "cell_type": "code",
   "execution_count": 82,
   "id": "fafcaf3e",
   "metadata": {},
   "outputs": [
    {
     "name": "stdout",
     "output_type": "stream",
     "text": [
      "Collecting folium\n",
      "  Downloading folium-0.15.1-py2.py3-none-any.whl (97 kB)\n",
      "     -------------------------------------- 97.0/97.0 kB 615.6 kB/s eta 0:00:00\n",
      "Requirement already satisfied: requests in c:\\hello world\\lib\\site-packages (from folium) (2.28.1)\n",
      "Requirement already satisfied: jinja2>=2.9 in c:\\hello world\\lib\\site-packages (from folium) (3.1.2)\n",
      "Requirement already satisfied: numpy in c:\\hello world\\lib\\site-packages (from folium) (1.23.5)\n",
      "Collecting xyzservices\n",
      "  Downloading xyzservices-2023.10.1-py3-none-any.whl (56 kB)\n",
      "     ---------------------------------------- 56.3/56.3 kB 2.9 MB/s eta 0:00:00\n",
      "Collecting branca>=0.6.0\n",
      "  Downloading branca-0.7.0-py3-none-any.whl (25 kB)\n",
      "Requirement already satisfied: MarkupSafe>=2.0 in c:\\hello world\\lib\\site-packages (from jinja2>=2.9->folium) (2.1.1)\n",
      "Requirement already satisfied: urllib3<1.27,>=1.21.1 in c:\\hello world\\lib\\site-packages (from requests->folium) (1.26.14)\n",
      "Requirement already satisfied: certifi>=2017.4.17 in c:\\hello world\\lib\\site-packages (from requests->folium) (2022.12.7)\n",
      "Requirement already satisfied: idna<4,>=2.5 in c:\\hello world\\lib\\site-packages (from requests->folium) (3.4)\n",
      "Requirement already satisfied: charset-normalizer<3,>=2 in c:\\hello world\\lib\\site-packages (from requests->folium) (2.0.4)\n",
      "Installing collected packages: xyzservices, branca, folium\n",
      "Successfully installed branca-0.7.0 folium-0.15.1 xyzservices-2023.10.1\n"
     ]
    }
   ],
   "source": [
    "!pip install folium"
   ]
  },
  {
   "cell_type": "code",
   "execution_count": 84,
   "id": "82dbfdea",
   "metadata": {},
   "outputs": [],
   "source": [
    "import folium\n"
   ]
  },
  {
   "cell_type": "code",
   "execution_count": 85,
   "id": "2f684a21",
   "metadata": {},
   "outputs": [],
   "source": [
    "basemap=folium.Map()"
   ]
  },
  {
   "cell_type": "code",
   "execution_count": 86,
   "id": "07904c4d",
   "metadata": {},
   "outputs": [
    {
     "data": {
      "text/html": [
       "<div style=\"width:100%;\"><div style=\"position:relative;width:100%;height:0;padding-bottom:60%;\"><span style=\"color:#565656\">Make this Notebook Trusted to load map: File -> Trust Notebook</span><iframe srcdoc=\"&lt;!DOCTYPE html&gt;\n",
       "&lt;html&gt;\n",
       "&lt;head&gt;\n",
       "    \n",
       "    &lt;meta http-equiv=&quot;content-type&quot; content=&quot;text/html; charset=UTF-8&quot; /&gt;\n",
       "    \n",
       "        &lt;script&gt;\n",
       "            L_NO_TOUCH = false;\n",
       "            L_DISABLE_3D = false;\n",
       "        &lt;/script&gt;\n",
       "    \n",
       "    &lt;style&gt;html, body {width: 100%;height: 100%;margin: 0;padding: 0;}&lt;/style&gt;\n",
       "    &lt;style&gt;#map {position:absolute;top:0;bottom:0;right:0;left:0;}&lt;/style&gt;\n",
       "    &lt;script src=&quot;https://cdn.jsdelivr.net/npm/leaflet@1.9.3/dist/leaflet.js&quot;&gt;&lt;/script&gt;\n",
       "    &lt;script src=&quot;https://code.jquery.com/jquery-3.7.1.min.js&quot;&gt;&lt;/script&gt;\n",
       "    &lt;script src=&quot;https://cdn.jsdelivr.net/npm/bootstrap@5.2.2/dist/js/bootstrap.bundle.min.js&quot;&gt;&lt;/script&gt;\n",
       "    &lt;script src=&quot;https://cdnjs.cloudflare.com/ajax/libs/Leaflet.awesome-markers/2.0.2/leaflet.awesome-markers.js&quot;&gt;&lt;/script&gt;\n",
       "    &lt;link rel=&quot;stylesheet&quot; href=&quot;https://cdn.jsdelivr.net/npm/leaflet@1.9.3/dist/leaflet.css&quot;/&gt;\n",
       "    &lt;link rel=&quot;stylesheet&quot; href=&quot;https://cdn.jsdelivr.net/npm/bootstrap@5.2.2/dist/css/bootstrap.min.css&quot;/&gt;\n",
       "    &lt;link rel=&quot;stylesheet&quot; href=&quot;https://netdna.bootstrapcdn.com/bootstrap/3.0.0/css/bootstrap.min.css&quot;/&gt;\n",
       "    &lt;link rel=&quot;stylesheet&quot; href=&quot;https://cdn.jsdelivr.net/npm/@fortawesome/fontawesome-free@6.2.0/css/all.min.css&quot;/&gt;\n",
       "    &lt;link rel=&quot;stylesheet&quot; href=&quot;https://cdnjs.cloudflare.com/ajax/libs/Leaflet.awesome-markers/2.0.2/leaflet.awesome-markers.css&quot;/&gt;\n",
       "    &lt;link rel=&quot;stylesheet&quot; href=&quot;https://cdn.jsdelivr.net/gh/python-visualization/folium/folium/templates/leaflet.awesome.rotate.min.css&quot;/&gt;\n",
       "    \n",
       "            &lt;meta name=&quot;viewport&quot; content=&quot;width=device-width,\n",
       "                initial-scale=1.0, maximum-scale=1.0, user-scalable=no&quot; /&gt;\n",
       "            &lt;style&gt;\n",
       "                #map_c7f9584fcebf8d6187d12ef0b788222f {\n",
       "                    position: relative;\n",
       "                    width: 100.0%;\n",
       "                    height: 100.0%;\n",
       "                    left: 0.0%;\n",
       "                    top: 0.0%;\n",
       "                }\n",
       "                .leaflet-container { font-size: 1rem; }\n",
       "            &lt;/style&gt;\n",
       "        \n",
       "&lt;/head&gt;\n",
       "&lt;body&gt;\n",
       "    \n",
       "    \n",
       "            &lt;div class=&quot;folium-map&quot; id=&quot;map_c7f9584fcebf8d6187d12ef0b788222f&quot; &gt;&lt;/div&gt;\n",
       "        \n",
       "&lt;/body&gt;\n",
       "&lt;script&gt;\n",
       "    \n",
       "    \n",
       "            var map_c7f9584fcebf8d6187d12ef0b788222f = L.map(\n",
       "                &quot;map_c7f9584fcebf8d6187d12ef0b788222f&quot;,\n",
       "                {\n",
       "                    center: [0.0, 0.0],\n",
       "                    crs: L.CRS.EPSG3857,\n",
       "                    zoom: 1,\n",
       "                    zoomControl: true,\n",
       "                    preferCanvas: false,\n",
       "                }\n",
       "            );\n",
       "\n",
       "            \n",
       "\n",
       "        \n",
       "    \n",
       "            var tile_layer_2afea25fe4111b39e7ab4a0d77834e1e = L.tileLayer(\n",
       "                &quot;https://tile.openstreetmap.org/{z}/{x}/{y}.png&quot;,\n",
       "                {&quot;attribution&quot;: &quot;\\u0026copy; \\u003ca href=\\&quot;https://www.openstreetmap.org/copyright\\&quot;\\u003eOpenStreetMap\\u003c/a\\u003e contributors&quot;, &quot;detectRetina&quot;: false, &quot;maxNativeZoom&quot;: 19, &quot;maxZoom&quot;: 19, &quot;minZoom&quot;: 0, &quot;noWrap&quot;: false, &quot;opacity&quot;: 1, &quot;subdomains&quot;: &quot;abc&quot;, &quot;tms&quot;: false}\n",
       "            );\n",
       "        \n",
       "    \n",
       "            tile_layer_2afea25fe4111b39e7ab4a0d77834e1e.addTo(map_c7f9584fcebf8d6187d12ef0b788222f);\n",
       "        \n",
       "&lt;/script&gt;\n",
       "&lt;/html&gt;\" style=\"position:absolute;width:100%;height:100%;left:0;top:0;border:none !important;\" allowfullscreen webkitallowfullscreen mozallowfullscreen></iframe></div></div>"
      ],
      "text/plain": [
       "<folium.folium.Map at 0x1b3ab41df90>"
      ]
     },
     "execution_count": 86,
     "metadata": {},
     "output_type": "execute_result"
    }
   ],
   "source": [
    "basemap"
   ]
  },
  {
   "cell_type": "code",
   "execution_count": 87,
   "id": "d09f5294",
   "metadata": {},
   "outputs": [],
   "source": [
    "from folium.plugins import HeatMap"
   ]
  },
  {
   "cell_type": "code",
   "execution_count": 88,
   "id": "dcd5c7e2",
   "metadata": {},
   "outputs": [
    {
     "data": {
      "text/plain": [
       "<folium.plugins.heat_map.HeatMap at 0x1b3ab41efe0>"
      ]
     },
     "execution_count": 88,
     "metadata": {},
     "output_type": "execute_result"
    }
   ],
   "source": [
    "HeatMap(heatmap_df[['latitude', 'longitude' , \"count\"]]).add_to(basemap)"
   ]
  },
  {
   "cell_type": "code",
   "execution_count": 89,
   "id": "09f41cd5",
   "metadata": {},
   "outputs": [
    {
     "data": {
      "text/html": [
       "<div style=\"width:100%;\"><div style=\"position:relative;width:100%;height:0;padding-bottom:60%;\"><span style=\"color:#565656\">Make this Notebook Trusted to load map: File -> Trust Notebook</span><iframe srcdoc=\"&lt;!DOCTYPE html&gt;\n",
       "&lt;html&gt;\n",
       "&lt;head&gt;\n",
       "    \n",
       "    &lt;meta http-equiv=&quot;content-type&quot; content=&quot;text/html; charset=UTF-8&quot; /&gt;\n",
       "    \n",
       "        &lt;script&gt;\n",
       "            L_NO_TOUCH = false;\n",
       "            L_DISABLE_3D = false;\n",
       "        &lt;/script&gt;\n",
       "    \n",
       "    &lt;style&gt;html, body {width: 100%;height: 100%;margin: 0;padding: 0;}&lt;/style&gt;\n",
       "    &lt;style&gt;#map {position:absolute;top:0;bottom:0;right:0;left:0;}&lt;/style&gt;\n",
       "    &lt;script src=&quot;https://cdn.jsdelivr.net/npm/leaflet@1.9.3/dist/leaflet.js&quot;&gt;&lt;/script&gt;\n",
       "    &lt;script src=&quot;https://code.jquery.com/jquery-3.7.1.min.js&quot;&gt;&lt;/script&gt;\n",
       "    &lt;script src=&quot;https://cdn.jsdelivr.net/npm/bootstrap@5.2.2/dist/js/bootstrap.bundle.min.js&quot;&gt;&lt;/script&gt;\n",
       "    &lt;script src=&quot;https://cdnjs.cloudflare.com/ajax/libs/Leaflet.awesome-markers/2.0.2/leaflet.awesome-markers.js&quot;&gt;&lt;/script&gt;\n",
       "    &lt;link rel=&quot;stylesheet&quot; href=&quot;https://cdn.jsdelivr.net/npm/leaflet@1.9.3/dist/leaflet.css&quot;/&gt;\n",
       "    &lt;link rel=&quot;stylesheet&quot; href=&quot;https://cdn.jsdelivr.net/npm/bootstrap@5.2.2/dist/css/bootstrap.min.css&quot;/&gt;\n",
       "    &lt;link rel=&quot;stylesheet&quot; href=&quot;https://netdna.bootstrapcdn.com/bootstrap/3.0.0/css/bootstrap.min.css&quot;/&gt;\n",
       "    &lt;link rel=&quot;stylesheet&quot; href=&quot;https://cdn.jsdelivr.net/npm/@fortawesome/fontawesome-free@6.2.0/css/all.min.css&quot;/&gt;\n",
       "    &lt;link rel=&quot;stylesheet&quot; href=&quot;https://cdnjs.cloudflare.com/ajax/libs/Leaflet.awesome-markers/2.0.2/leaflet.awesome-markers.css&quot;/&gt;\n",
       "    &lt;link rel=&quot;stylesheet&quot; href=&quot;https://cdn.jsdelivr.net/gh/python-visualization/folium/folium/templates/leaflet.awesome.rotate.min.css&quot;/&gt;\n",
       "    \n",
       "            &lt;meta name=&quot;viewport&quot; content=&quot;width=device-width,\n",
       "                initial-scale=1.0, maximum-scale=1.0, user-scalable=no&quot; /&gt;\n",
       "            &lt;style&gt;\n",
       "                #map_c7f9584fcebf8d6187d12ef0b788222f {\n",
       "                    position: relative;\n",
       "                    width: 100.0%;\n",
       "                    height: 100.0%;\n",
       "                    left: 0.0%;\n",
       "                    top: 0.0%;\n",
       "                }\n",
       "                .leaflet-container { font-size: 1rem; }\n",
       "            &lt;/style&gt;\n",
       "        \n",
       "    &lt;script src=&quot;https://cdn.jsdelivr.net/gh/python-visualization/folium@main/folium/templates/leaflet_heat.min.js&quot;&gt;&lt;/script&gt;\n",
       "&lt;/head&gt;\n",
       "&lt;body&gt;\n",
       "    \n",
       "    \n",
       "            &lt;div class=&quot;folium-map&quot; id=&quot;map_c7f9584fcebf8d6187d12ef0b788222f&quot; &gt;&lt;/div&gt;\n",
       "        \n",
       "&lt;/body&gt;\n",
       "&lt;script&gt;\n",
       "    \n",
       "    \n",
       "            var map_c7f9584fcebf8d6187d12ef0b788222f = L.map(\n",
       "                &quot;map_c7f9584fcebf8d6187d12ef0b788222f&quot;,\n",
       "                {\n",
       "                    center: [0.0, 0.0],\n",
       "                    crs: L.CRS.EPSG3857,\n",
       "                    zoom: 1,\n",
       "                    zoomControl: true,\n",
       "                    preferCanvas: false,\n",
       "                }\n",
       "            );\n",
       "\n",
       "            \n",
       "\n",
       "        \n",
       "    \n",
       "            var tile_layer_2afea25fe4111b39e7ab4a0d77834e1e = L.tileLayer(\n",
       "                &quot;https://tile.openstreetmap.org/{z}/{x}/{y}.png&quot;,\n",
       "                {&quot;attribution&quot;: &quot;\\u0026copy; \\u003ca href=\\&quot;https://www.openstreetmap.org/copyright\\&quot;\\u003eOpenStreetMap\\u003c/a\\u003e contributors&quot;, &quot;detectRetina&quot;: false, &quot;maxNativeZoom&quot;: 19, &quot;maxZoom&quot;: 19, &quot;minZoom&quot;: 0, &quot;noWrap&quot;: false, &quot;opacity&quot;: 1, &quot;subdomains&quot;: &quot;abc&quot;, &quot;tms&quot;: false}\n",
       "            );\n",
       "        \n",
       "    \n",
       "            tile_layer_2afea25fe4111b39e7ab4a0d77834e1e.addTo(map_c7f9584fcebf8d6187d12ef0b788222f);\n",
       "        \n",
       "    \n",
       "            tile_layer_2afea25fe4111b39e7ab4a0d77834e1e.addTo(map_c7f9584fcebf8d6187d12ef0b788222f);\n",
       "        \n",
       "    \n",
       "            var heat_map_4775d289a56f199c26c03fc14277ea0c = L.heatLayer(\n",
       "                [[12.911275849999999, 77.60456543431182, 2469.0], [12.9116225, 77.6388622, 1123.0], [12.9696365, 77.7497448, 1059.0], [12.9552572, 77.6984163, 1038.0], [12.91226375, 77.59045672324466, 958.0], [12.9348429, 77.6189768, 755.0], [12.8918931, 77.598608, 701.0], [12.9732913, 77.6404672, 678.0], [12.848759900000001, 77.64825295827616, 675.0], [12.9292731, 77.5824229, 664.0], [12.93103185, 77.6782471, 659.0], [12.9277245, 77.6327822, 601.0], [12.9243866, 77.6508897, 529.0], [12.9390255, 77.6238477, 408.0], [12.9364846, 77.6134783, 390.0], [12.9778793, 77.6246697, 376.0], [12.9755264, 77.6067902, 359.0], [12.9327778, 77.6294052, 351.0], [12.9714852, 77.6069655, 323.0], [12.9668233, 77.6096251, 312.0], [12.9152186, 77.5736205, 309.0], [12.957434549999999, 77.71470815294066, 282.0], [12.986391, 77.6075416, 272.0], [13.0267404, 77.5717955, 267.0], [13.0221416, 77.6403368, 262.0], [12.9882338, 77.554883, 230.0], [13.0141618, 77.6518539, 227.0], [12.9844498, 77.5971134, 224.0], [12.9575547, 77.5979099, 223.0], [13.0027353, 77.5703253, 215.0], [12.9660577, 77.5980135, 214.0], [12.9584499, 77.6660905, 214.0], [12.945245, 77.6269144, 202.0], [12.9986827, 77.615525, 201.0], [12.9624669, 77.6381958, 199.0], [12.9417261, 77.5755021, 189.0], [13.0093455, 77.6377094, 175.0], [12.9742939, 77.6525189, 173.0], [12.9489339, 77.5968273, 132.0], [12.9089453, 77.6239038, 129.0], [12.9683054, 77.5964883, 128.0], [12.988721250000001, 77.58516877601824, 127.0], [12.9744255, 77.6015301, 121.0], [12.9678074, 77.6568367, 117.0], [12.9408685, 77.617338, 103.0], [12.9081487, 77.5553179, 98.0], [13.0422794, 77.6248577, 96.0], [12.9282918, 77.6254034, 84.0], [12.9931876, 77.5753419, 83.0], [12.973936, 77.6509982, 78.0], [12.9822324, 77.6082947, 76.0], [12.9843935, 77.5878025, 76.0], [12.8586042, 77.6624128, 73.0], [13.02383, 77.5529215, 72.0], [12.978129800000001, 77.5722060613441, 69.0], [13.0258087, 77.6305067, 68.0], [12.991257, 77.5384096, 65.0], [12.9821293, 77.5988521, 61.0], [12.965717999999999, 77.5762705372058, 58.0], [12.9243692, 77.6242433, 58.0], [13.0227204, 77.595715, 51.0], [13.0358698, 77.6323597, 51.0], [12.987637, 77.7383542, 50.0], [12.9846713, 77.6790908, 47.0], [12.944569, 77.7469486, 47.0], [12.9660722, 77.6125940647638, 35.0], [12.9578658, 77.6958748, 34.0], [12.9287596, 77.6287122, 31.0], [12.985098650000001, 77.66311735, 30.0], [12.957998, 77.6037312, 22.0], [13.0068, 77.5813, 20.0], [12.9340114, 77.6222304, 19.0], [13.0464531, 77.5483803, 19.0], [12.9912056, 77.5855419, 17.0], [12.862274, 77.5303759, 16.0], [13.0163, 77.6785, 14.0], [13.001147, 77.61822712748447, 14.0], [13.0621474, 77.58006135480495, 13.0], [12.9055682, 77.5455438, 13.0], [12.975608, 77.5553564, 12.0], [13.007516, 77.695935, 12.0], [12.9466619, 77.5300896, 11.0], [13.0076091, 77.6900228, 7.0], [13.022234699999998, 77.56718324768107, 6.0], [13.0181211, 77.5282214, 5.0], [13.0382184, 77.5919, 4.0], [13.0784743, 77.6068938, 3.0], [12.97339325, 77.61123426914668, 2.0], [13.022234699999998, 77.56718324768107, 1.0], [13.0329419, 77.5273253, 1.0]],\n",
       "                {&quot;blur&quot;: 15, &quot;maxZoom&quot;: 18, &quot;minOpacity&quot;: 0.5, &quot;radius&quot;: 25}\n",
       "            );\n",
       "        \n",
       "    \n",
       "            heat_map_4775d289a56f199c26c03fc14277ea0c.addTo(map_c7f9584fcebf8d6187d12ef0b788222f);\n",
       "        \n",
       "&lt;/script&gt;\n",
       "&lt;/html&gt;\" style=\"position:absolute;width:100%;height:100%;left:0;top:0;border:none !important;\" allowfullscreen webkitallowfullscreen mozallowfullscreen></iframe></div></div>"
      ],
      "text/plain": [
       "<folium.folium.Map at 0x1b3ab41df90>"
      ]
     },
     "execution_count": 89,
     "metadata": {},
     "output_type": "execute_result"
    }
   ],
   "source": [
    "basemap"
   ]
  },
  {
   "cell_type": "markdown",
   "id": "91f49db0",
   "metadata": {},
   "source": [
    "# conclusions(Inferences)\n",
    "1..It is clear that restaurants tend to concentrate in central bangalore area.\n",
    "\n",
    "2..The clutter of restaurants lowers are we move away from central.\n",
    "\n",
    "3..So,potential restaurant entrepreneurs can refer this and find out good locations for their venture.\n",
    "\n",
    "4..note heatmap is good when we have latitude,longitude or importance of that particular place or count of that place"
   ]
  },
  {
   "cell_type": "code",
   "execution_count": 90,
   "id": "90c9d8cc",
   "metadata": {},
   "outputs": [],
   "source": [
    "### Note : Its always good to write conclusions bcz as a Data Analyst or a Data Scientist u have to work in a team \n",
    "### & probably some of your Team members are completely unaware about Technical things.."
   ]
  },
  {
   "cell_type": "markdown",
   "id": "f2b7aab4",
   "metadata": {},
   "source": [
    "# 9.. How to automate your task : ie Perform Automation .."
   ]
  },
  {
   "cell_type": "code",
   "execution_count": 91,
   "id": "c9a309f9",
   "metadata": {},
   "outputs": [],
   "source": [
    "def get_heatmap(cuisine):\n",
    "    cuisine_df = df[df['cuisines'].str.contains(cuisine)]\n",
    "    \n",
    "    cuisine_rest_count = cuisine_df['location'].value_counts().reset_index().rename(columns={'index':'name' , \"location\":\"count\"})\n",
    "    heatmap_df = cuisine_rest_count.merge(locations , on='name' , how='left')\n",
    "    print(heatmap_df.head(4))\n",
    "    \n",
    "    basemap = folium.Map()\n",
    "    HeatMap(heatmap_df[['latitude', 'longitude' , \"count\"]]).add_to(basemap)\n",
    "    return basemap\n"
   ]
  },
  {
   "cell_type": "code",
   "execution_count": 92,
   "id": "56bf7b32",
   "metadata": {},
   "outputs": [
    {
     "name": "stdout",
     "output_type": "stream",
     "text": [
      "                                          name  count   latitude  longitude\n",
      "0        BTM , Bangalore  , Karnataka , India     815  12.911276  77.604565\n",
      "1   JP Nagar , Bangalore  , Karnataka , India     437  12.912264  77.590457\n",
      "2        HSR , Bangalore  , Karnataka , India     436  12.911623  77.638862\n",
      "3  Jayanagar , Bangalore  , Karnataka , India     416  12.929273  77.582423\n"
     ]
    },
    {
     "data": {
      "text/html": [
       "<div style=\"width:100%;\"><div style=\"position:relative;width:100%;height:0;padding-bottom:60%;\"><span style=\"color:#565656\">Make this Notebook Trusted to load map: File -> Trust Notebook</span><iframe srcdoc=\"&lt;!DOCTYPE html&gt;\n",
       "&lt;html&gt;\n",
       "&lt;head&gt;\n",
       "    \n",
       "    &lt;meta http-equiv=&quot;content-type&quot; content=&quot;text/html; charset=UTF-8&quot; /&gt;\n",
       "    \n",
       "        &lt;script&gt;\n",
       "            L_NO_TOUCH = false;\n",
       "            L_DISABLE_3D = false;\n",
       "        &lt;/script&gt;\n",
       "    \n",
       "    &lt;style&gt;html, body {width: 100%;height: 100%;margin: 0;padding: 0;}&lt;/style&gt;\n",
       "    &lt;style&gt;#map {position:absolute;top:0;bottom:0;right:0;left:0;}&lt;/style&gt;\n",
       "    &lt;script src=&quot;https://cdn.jsdelivr.net/npm/leaflet@1.9.3/dist/leaflet.js&quot;&gt;&lt;/script&gt;\n",
       "    &lt;script src=&quot;https://code.jquery.com/jquery-3.7.1.min.js&quot;&gt;&lt;/script&gt;\n",
       "    &lt;script src=&quot;https://cdn.jsdelivr.net/npm/bootstrap@5.2.2/dist/js/bootstrap.bundle.min.js&quot;&gt;&lt;/script&gt;\n",
       "    &lt;script src=&quot;https://cdnjs.cloudflare.com/ajax/libs/Leaflet.awesome-markers/2.0.2/leaflet.awesome-markers.js&quot;&gt;&lt;/script&gt;\n",
       "    &lt;link rel=&quot;stylesheet&quot; href=&quot;https://cdn.jsdelivr.net/npm/leaflet@1.9.3/dist/leaflet.css&quot;/&gt;\n",
       "    &lt;link rel=&quot;stylesheet&quot; href=&quot;https://cdn.jsdelivr.net/npm/bootstrap@5.2.2/dist/css/bootstrap.min.css&quot;/&gt;\n",
       "    &lt;link rel=&quot;stylesheet&quot; href=&quot;https://netdna.bootstrapcdn.com/bootstrap/3.0.0/css/bootstrap.min.css&quot;/&gt;\n",
       "    &lt;link rel=&quot;stylesheet&quot; href=&quot;https://cdn.jsdelivr.net/npm/@fortawesome/fontawesome-free@6.2.0/css/all.min.css&quot;/&gt;\n",
       "    &lt;link rel=&quot;stylesheet&quot; href=&quot;https://cdnjs.cloudflare.com/ajax/libs/Leaflet.awesome-markers/2.0.2/leaflet.awesome-markers.css&quot;/&gt;\n",
       "    &lt;link rel=&quot;stylesheet&quot; href=&quot;https://cdn.jsdelivr.net/gh/python-visualization/folium/folium/templates/leaflet.awesome.rotate.min.css&quot;/&gt;\n",
       "    \n",
       "            &lt;meta name=&quot;viewport&quot; content=&quot;width=device-width,\n",
       "                initial-scale=1.0, maximum-scale=1.0, user-scalable=no&quot; /&gt;\n",
       "            &lt;style&gt;\n",
       "                #map_33925b680b32304486a589e0ef45090c {\n",
       "                    position: relative;\n",
       "                    width: 100.0%;\n",
       "                    height: 100.0%;\n",
       "                    left: 0.0%;\n",
       "                    top: 0.0%;\n",
       "                }\n",
       "                .leaflet-container { font-size: 1rem; }\n",
       "            &lt;/style&gt;\n",
       "        \n",
       "    &lt;script src=&quot;https://cdn.jsdelivr.net/gh/python-visualization/folium@main/folium/templates/leaflet_heat.min.js&quot;&gt;&lt;/script&gt;\n",
       "&lt;/head&gt;\n",
       "&lt;body&gt;\n",
       "    \n",
       "    \n",
       "            &lt;div class=&quot;folium-map&quot; id=&quot;map_33925b680b32304486a589e0ef45090c&quot; &gt;&lt;/div&gt;\n",
       "        \n",
       "&lt;/body&gt;\n",
       "&lt;script&gt;\n",
       "    \n",
       "    \n",
       "            var map_33925b680b32304486a589e0ef45090c = L.map(\n",
       "                &quot;map_33925b680b32304486a589e0ef45090c&quot;,\n",
       "                {\n",
       "                    center: [0.0, 0.0],\n",
       "                    crs: L.CRS.EPSG3857,\n",
       "                    zoom: 1,\n",
       "                    zoomControl: true,\n",
       "                    preferCanvas: false,\n",
       "                }\n",
       "            );\n",
       "\n",
       "            \n",
       "\n",
       "        \n",
       "    \n",
       "            var tile_layer_501bfb220f124908d201b804f5bbb829 = L.tileLayer(\n",
       "                &quot;https://tile.openstreetmap.org/{z}/{x}/{y}.png&quot;,\n",
       "                {&quot;attribution&quot;: &quot;\\u0026copy; \\u003ca href=\\&quot;https://www.openstreetmap.org/copyright\\&quot;\\u003eOpenStreetMap\\u003c/a\\u003e contributors&quot;, &quot;detectRetina&quot;: false, &quot;maxNativeZoom&quot;: 19, &quot;maxZoom&quot;: 19, &quot;minZoom&quot;: 0, &quot;noWrap&quot;: false, &quot;opacity&quot;: 1, &quot;subdomains&quot;: &quot;abc&quot;, &quot;tms&quot;: false}\n",
       "            );\n",
       "        \n",
       "    \n",
       "            tile_layer_501bfb220f124908d201b804f5bbb829.addTo(map_33925b680b32304486a589e0ef45090c);\n",
       "        \n",
       "    \n",
       "            var heat_map_e8bc173bd5b9f7e10a6609a45469d714 = L.heatLayer(\n",
       "                [[12.911275849999999, 77.60456543431182, 815.0], [12.91226375, 77.59045672324466, 437.0], [12.9116225, 77.6388622, 436.0], [12.9292731, 77.5824229, 416.0], [12.9696365, 77.7497448, 308.0], [12.848759900000001, 77.64825295827616, 308.0], [12.8918931, 77.598608, 302.0], [12.9552572, 77.6984163, 293.0], [12.9152186, 77.5736205, 242.0], [12.9732913, 77.6404672, 235.0], [12.9417261, 77.5755021, 218.0], [12.9882338, 77.554883, 217.0], [12.9714852, 77.6069655, 211.0], [12.9277245, 77.6327822, 187.0], [12.93103185, 77.6782471, 183.0], [12.9778793, 77.6246697, 182.0], [12.9243866, 77.6508897, 180.0], [12.9390255, 77.6238477, 164.0], [13.0027353, 77.5703253, 160.0], [12.986391, 77.6075416, 160.0], [12.9348429, 77.6189768, 155.0], [13.0141618, 77.6518539, 155.0], [12.9575547, 77.5979099, 153.0], [12.9668233, 77.6096251, 149.0], [12.957434549999999, 77.71470815294066, 133.0], [13.0093455, 77.6377094, 117.0], [12.9364846, 77.6134783, 102.0], [12.9327778, 77.6294052, 102.0], [12.9844498, 77.5971134, 99.0], [13.0267404, 77.5717955, 92.0], [12.9986827, 77.615525, 92.0], [12.978129800000001, 77.5722060613441, 88.0], [13.0221416, 77.6403368, 85.0], [12.9660577, 77.5980135, 85.0], [12.9755264, 77.6067902, 82.0], [12.9584499, 77.6660905, 69.0], [12.9624669, 77.6381958, 65.0], [12.9408685, 77.617338, 62.0], [12.988721250000001, 77.58516877601824, 59.0], [12.965717999999999, 77.5762705372058, 56.0], [12.9843935, 77.5878025, 51.0], [12.9089453, 77.6239038, 48.0], [12.9742939, 77.6525189, 46.0], [12.9678074, 77.6568367, 46.0], [12.9489339, 77.5968273, 44.0], [12.9822324, 77.6082947, 44.0], [12.991257, 77.5384096, 41.0], [12.945245, 77.6269144, 40.0], [12.9081487, 77.5553179, 38.0], [12.973936, 77.6509982, 37.0], [12.9744255, 77.6015301, 37.0], [13.02383, 77.5529215, 35.0], [12.9660722, 77.6125940647638, 35.0], [12.9821293, 77.5988521, 33.0], [12.8586042, 77.6624128, 32.0], [13.0422794, 77.6248577, 31.0], [13.0358698, 77.6323597, 29.0], [12.944569, 77.7469486, 26.0], [13.0258087, 77.6305067, 25.0], [12.9846713, 77.6790908, 22.0], [12.9931876, 77.5753419, 22.0], [12.9243692, 77.6242433, 18.0], [13.0227204, 77.595715, 18.0], [12.975608, 77.5553564, 17.0], [12.9466619, 77.5300896, 17.0], [12.9282918, 77.6254034, 16.0], [12.9683054, 77.5964883, 16.0], [12.985098650000001, 77.66311735, 14.0], [13.0464531, 77.5483803, 13.0], [13.0621474, 77.58006135480495, 13.0], [12.862274, 77.5303759, 12.0], [12.9578658, 77.6958748, 10.0], [12.987637, 77.7383542, 10.0], [13.0068, 77.5813, 9.0], [13.0181211, 77.5282214, 8.0], [13.0163, 77.6785, 7.0], [13.007516, 77.695935, 6.0], [12.9912056, 77.5855419, 5.0], [13.1006982, 77.5963454, 4.0], [12.9055682, 77.5455438, 4.0], [13.0784743, 77.6068938, 3.0], [13.001147, 77.61822712748447, 3.0], [13.0076091, 77.6900228, 2.0], [13.022234699999998, 77.56718324768107, 1.0], [12.9287596, 77.6287122, 1.0], [13.0382184, 77.5919, 1.0]],\n",
       "                {&quot;blur&quot;: 15, &quot;maxZoom&quot;: 18, &quot;minOpacity&quot;: 0.5, &quot;radius&quot;: 25}\n",
       "            );\n",
       "        \n",
       "    \n",
       "            heat_map_e8bc173bd5b9f7e10a6609a45469d714.addTo(map_33925b680b32304486a589e0ef45090c);\n",
       "        \n",
       "&lt;/script&gt;\n",
       "&lt;/html&gt;\" style=\"position:absolute;width:100%;height:100%;left:0;top:0;border:none !important;\" allowfullscreen webkitallowfullscreen mozallowfullscreen></iframe></div></div>"
      ],
      "text/plain": [
       "<folium.folium.Map at 0x1b3ab5be020>"
      ]
     },
     "execution_count": 92,
     "metadata": {},
     "output_type": "execute_result"
    }
   ],
   "source": [
    "get_heatmap('South Indian')"
   ]
  },
  {
   "cell_type": "code",
   "execution_count": 93,
   "id": "5d786b53",
   "metadata": {},
   "outputs": [
    {
     "data": {
      "text/plain": [
       "array(['North Indian, Mughlai, Chinese', 'Chinese, North Indian, Thai',\n",
       "       'Cafe, Mexican, Italian', ...,\n",
       "       'North Indian, Street Food, Biryani', 'Chinese, Mughlai',\n",
       "       'North Indian, Chinese, Arabian, Momos'], dtype=object)"
      ]
     },
     "execution_count": 93,
     "metadata": {},
     "output_type": "execute_result"
    }
   ],
   "source": [
    "df['cuisines'].unique()"
   ]
  },
  {
   "cell_type": "code",
   "execution_count": 94,
   "id": "6debcfe7",
   "metadata": {},
   "outputs": [
    {
     "name": "stdout",
     "output_type": "stream",
     "text": [
      "                                                name  count   latitude  \\\n",
      "0              BTM , Bangalore  , Karnataka , India    1824  12.911276   \n",
      "1              HSR , Bangalore  , Karnataka , India     760  12.911623   \n",
      "2  Koramangala 5th Block , Bangalore  , Karnataka...    730  12.934843   \n",
      "3     Marathahalli , Bangalore  , Karnataka , India     668  12.955257   \n",
      "\n",
      "   longitude  \n",
      "0  77.604565  \n",
      "1  77.638862  \n",
      "2  77.618977  \n",
      "3  77.698416  \n"
     ]
    },
    {
     "data": {
      "text/html": [
       "<div style=\"width:100%;\"><div style=\"position:relative;width:100%;height:0;padding-bottom:60%;\"><span style=\"color:#565656\">Make this Notebook Trusted to load map: File -> Trust Notebook</span><iframe srcdoc=\"&lt;!DOCTYPE html&gt;\n",
       "&lt;html&gt;\n",
       "&lt;head&gt;\n",
       "    \n",
       "    &lt;meta http-equiv=&quot;content-type&quot; content=&quot;text/html; charset=UTF-8&quot; /&gt;\n",
       "    \n",
       "        &lt;script&gt;\n",
       "            L_NO_TOUCH = false;\n",
       "            L_DISABLE_3D = false;\n",
       "        &lt;/script&gt;\n",
       "    \n",
       "    &lt;style&gt;html, body {width: 100%;height: 100%;margin: 0;padding: 0;}&lt;/style&gt;\n",
       "    &lt;style&gt;#map {position:absolute;top:0;bottom:0;right:0;left:0;}&lt;/style&gt;\n",
       "    &lt;script src=&quot;https://cdn.jsdelivr.net/npm/leaflet@1.9.3/dist/leaflet.js&quot;&gt;&lt;/script&gt;\n",
       "    &lt;script src=&quot;https://code.jquery.com/jquery-3.7.1.min.js&quot;&gt;&lt;/script&gt;\n",
       "    &lt;script src=&quot;https://cdn.jsdelivr.net/npm/bootstrap@5.2.2/dist/js/bootstrap.bundle.min.js&quot;&gt;&lt;/script&gt;\n",
       "    &lt;script src=&quot;https://cdnjs.cloudflare.com/ajax/libs/Leaflet.awesome-markers/2.0.2/leaflet.awesome-markers.js&quot;&gt;&lt;/script&gt;\n",
       "    &lt;link rel=&quot;stylesheet&quot; href=&quot;https://cdn.jsdelivr.net/npm/leaflet@1.9.3/dist/leaflet.css&quot;/&gt;\n",
       "    &lt;link rel=&quot;stylesheet&quot; href=&quot;https://cdn.jsdelivr.net/npm/bootstrap@5.2.2/dist/css/bootstrap.min.css&quot;/&gt;\n",
       "    &lt;link rel=&quot;stylesheet&quot; href=&quot;https://netdna.bootstrapcdn.com/bootstrap/3.0.0/css/bootstrap.min.css&quot;/&gt;\n",
       "    &lt;link rel=&quot;stylesheet&quot; href=&quot;https://cdn.jsdelivr.net/npm/@fortawesome/fontawesome-free@6.2.0/css/all.min.css&quot;/&gt;\n",
       "    &lt;link rel=&quot;stylesheet&quot; href=&quot;https://cdnjs.cloudflare.com/ajax/libs/Leaflet.awesome-markers/2.0.2/leaflet.awesome-markers.css&quot;/&gt;\n",
       "    &lt;link rel=&quot;stylesheet&quot; href=&quot;https://cdn.jsdelivr.net/gh/python-visualization/folium/folium/templates/leaflet.awesome.rotate.min.css&quot;/&gt;\n",
       "    \n",
       "            &lt;meta name=&quot;viewport&quot; content=&quot;width=device-width,\n",
       "                initial-scale=1.0, maximum-scale=1.0, user-scalable=no&quot; /&gt;\n",
       "            &lt;style&gt;\n",
       "                #map_ccde8f8fc10439de373582c82cceca6f {\n",
       "                    position: relative;\n",
       "                    width: 100.0%;\n",
       "                    height: 100.0%;\n",
       "                    left: 0.0%;\n",
       "                    top: 0.0%;\n",
       "                }\n",
       "                .leaflet-container { font-size: 1rem; }\n",
       "            &lt;/style&gt;\n",
       "        \n",
       "    &lt;script src=&quot;https://cdn.jsdelivr.net/gh/python-visualization/folium@main/folium/templates/leaflet_heat.min.js&quot;&gt;&lt;/script&gt;\n",
       "&lt;/head&gt;\n",
       "&lt;body&gt;\n",
       "    \n",
       "    \n",
       "            &lt;div class=&quot;folium-map&quot; id=&quot;map_ccde8f8fc10439de373582c82cceca6f&quot; &gt;&lt;/div&gt;\n",
       "        \n",
       "&lt;/body&gt;\n",
       "&lt;script&gt;\n",
       "    \n",
       "    \n",
       "            var map_ccde8f8fc10439de373582c82cceca6f = L.map(\n",
       "                &quot;map_ccde8f8fc10439de373582c82cceca6f&quot;,\n",
       "                {\n",
       "                    center: [0.0, 0.0],\n",
       "                    crs: L.CRS.EPSG3857,\n",
       "                    zoom: 1,\n",
       "                    zoomControl: true,\n",
       "                    preferCanvas: false,\n",
       "                }\n",
       "            );\n",
       "\n",
       "            \n",
       "\n",
       "        \n",
       "    \n",
       "            var tile_layer_ccfd55ae825a3b95ee64fe2adb13e6af = L.tileLayer(\n",
       "                &quot;https://tile.openstreetmap.org/{z}/{x}/{y}.png&quot;,\n",
       "                {&quot;attribution&quot;: &quot;\\u0026copy; \\u003ca href=\\&quot;https://www.openstreetmap.org/copyright\\&quot;\\u003eOpenStreetMap\\u003c/a\\u003e contributors&quot;, &quot;detectRetina&quot;: false, &quot;maxNativeZoom&quot;: 19, &quot;maxZoom&quot;: 19, &quot;minZoom&quot;: 0, &quot;noWrap&quot;: false, &quot;opacity&quot;: 1, &quot;subdomains&quot;: &quot;abc&quot;, &quot;tms&quot;: false}\n",
       "            );\n",
       "        \n",
       "    \n",
       "            tile_layer_ccfd55ae825a3b95ee64fe2adb13e6af.addTo(map_ccde8f8fc10439de373582c82cceca6f);\n",
       "        \n",
       "    \n",
       "            var heat_map_99a4d7043c81ffc89cfbaa408f28734c = L.heatLayer(\n",
       "                [[12.911275849999999, 77.60456543431182, 1824.0], [12.9116225, 77.6388622, 760.0], [12.9348429, 77.6189768, 730.0], [12.9552572, 77.6984163, 668.0], [12.91226375, 77.59045672324466, 633.0], [12.9696365, 77.7497448, 629.0], [12.9292731, 77.5824229, 570.0], [12.8918931, 77.598608, 510.0], [12.848759900000001, 77.64825295827616, 509.0], [12.9732913, 77.6404672, 466.0], [12.93103185, 77.6782471, 375.0], [12.9277245, 77.6327822, 356.0], [12.9714852, 77.6069655, 349.0], [12.9390255, 77.6238477, 322.0], [12.9243866, 77.6508897, 311.0], [12.9364846, 77.6134783, 284.0], [12.9327778, 77.6294052, 278.0], [12.9152186, 77.5736205, 259.0], [12.957434549999999, 77.71470815294066, 254.0], [13.0141618, 77.6518539, 254.0], [12.9778793, 77.6246697, 245.0], [12.9755264, 77.6067902, 242.0], [12.9668233, 77.6096251, 233.0], [13.0093455, 77.6377094, 211.0], [12.9882338, 77.554883, 204.0], [12.9986827, 77.615525, 200.0], [13.0267404, 77.5717955, 196.0], [12.9660577, 77.5980135, 194.0], [12.945245, 77.6269144, 186.0], [12.9575547, 77.5979099, 174.0], [12.9844498, 77.5971134, 170.0], [13.0221416, 77.6403368, 170.0], [12.986391, 77.6075416, 162.0], [13.0027353, 77.5703253, 157.0], [12.9417261, 77.5755021, 156.0], [12.9584499, 77.6660905, 145.0], [12.9624669, 77.6381958, 120.0], [12.9742939, 77.6525189, 105.0], [12.9089453, 77.6239038, 101.0], [12.9408685, 77.617338, 100.0], [12.9081487, 77.5553179, 99.0], [12.988721250000001, 77.58516877601824, 94.0], [12.9489339, 77.5968273, 92.0], [12.9821293, 77.5988521, 79.0], [13.0422794, 77.6248577, 76.0], [12.9931876, 77.5753419, 67.0], [12.9678074, 77.6568367, 66.0], [13.0358698, 77.6323597, 65.0], [13.02383, 77.5529215, 65.0], [12.9282918, 77.6254034, 62.0], [12.9744255, 77.6015301, 61.0], [12.973936, 77.6509982, 60.0], [12.9822324, 77.6082947, 59.0], [12.9683054, 77.5964883, 57.0], [13.0258087, 77.6305067, 56.0], [12.978129800000001, 77.5722060613441, 55.0], [12.8586042, 77.6624128, 54.0], [12.991257, 77.5384096, 53.0], [12.965717999999999, 77.5762705372058, 50.0], [13.0227204, 77.595715, 44.0], [12.9846713, 77.6790908, 37.0], [12.9243692, 77.6242433, 36.0], [12.9660722, 77.6125940647638, 32.0], [12.9843935, 77.5878025, 31.0], [12.944569, 77.7469486, 26.0], [12.987637, 77.7383542, 21.0], [12.9578658, 77.6958748, 21.0], [12.9287596, 77.6287122, 20.0], [13.007516, 77.695935, 17.0], [13.0076091, 77.6900228, 17.0], [13.0068, 77.5813, 17.0], [12.862274, 77.5303759, 16.0], [12.985098650000001, 77.66311735, 14.0], [13.0464531, 77.5483803, 14.0], [12.9055682, 77.5455438, 13.0], [12.9340114, 77.6222304, 12.0], [13.0621474, 77.58006135480495, 9.0], [12.9466619, 77.5300896, 9.0], [12.975608, 77.5553564, 9.0], [13.001147, 77.61822712748447, 8.0], [12.9912056, 77.5855419, 8.0], [13.0181211, 77.5282214, 8.0], [13.0382184, 77.5919, 6.0], [13.0163, 77.6785, 6.0], [13.022234699999998, 77.56718324768107, 6.0], [13.0784743, 77.6068938, 3.0], [12.97339325, 77.61123426914668, 2.0], [13.022234699999998, 77.56718324768107, 1.0], [12.9274413, 77.5155224, 1.0], [13.0329419, 77.5273253, 1.0]],\n",
       "                {&quot;blur&quot;: 15, &quot;maxZoom&quot;: 18, &quot;minOpacity&quot;: 0.5, &quot;radius&quot;: 25}\n",
       "            );\n",
       "        \n",
       "    \n",
       "            heat_map_99a4d7043c81ffc89cfbaa408f28734c.addTo(map_ccde8f8fc10439de373582c82cceca6f);\n",
       "        \n",
       "&lt;/script&gt;\n",
       "&lt;/html&gt;\" style=\"position:absolute;width:100%;height:100%;left:0;top:0;border:none !important;\" allowfullscreen webkitallowfullscreen mozallowfullscreen></iframe></div></div>"
      ],
      "text/plain": [
       "<folium.folium.Map at 0x1b3ab5beda0>"
      ]
     },
     "execution_count": 94,
     "metadata": {},
     "output_type": "execute_result"
    }
   ],
   "source": [
    "get_heatmap('Chinese')"
   ]
  },
  {
   "cell_type": "code",
   "execution_count": 95,
   "id": "7644b112",
   "metadata": {},
   "outputs": [
    {
     "name": "stdout",
     "output_type": "stream",
     "text": [
      "                                                name  count   latitude  \\\n",
      "0  Koramangala 5th Block , Bangalore  , Karnataka...    125  12.934843   \n",
      "1          MG Road , Bangalore  , Karnataka , India      71  12.975526   \n",
      "2      Indiranagar , Bangalore  , Karnataka , India      62  12.973291   \n",
      "3  Cunningham Road , Bangalore  , Karnataka , India      55  12.984450   \n",
      "\n",
      "   longitude  \n",
      "0  77.618977  \n",
      "1  77.606790  \n",
      "2  77.640467  \n",
      "3  77.597113  \n"
     ]
    },
    {
     "data": {
      "text/html": [
       "<div style=\"width:100%;\"><div style=\"position:relative;width:100%;height:0;padding-bottom:60%;\"><span style=\"color:#565656\">Make this Notebook Trusted to load map: File -> Trust Notebook</span><iframe srcdoc=\"&lt;!DOCTYPE html&gt;\n",
       "&lt;html&gt;\n",
       "&lt;head&gt;\n",
       "    \n",
       "    &lt;meta http-equiv=&quot;content-type&quot; content=&quot;text/html; charset=UTF-8&quot; /&gt;\n",
       "    \n",
       "        &lt;script&gt;\n",
       "            L_NO_TOUCH = false;\n",
       "            L_DISABLE_3D = false;\n",
       "        &lt;/script&gt;\n",
       "    \n",
       "    &lt;style&gt;html, body {width: 100%;height: 100%;margin: 0;padding: 0;}&lt;/style&gt;\n",
       "    &lt;style&gt;#map {position:absolute;top:0;bottom:0;right:0;left:0;}&lt;/style&gt;\n",
       "    &lt;script src=&quot;https://cdn.jsdelivr.net/npm/leaflet@1.9.3/dist/leaflet.js&quot;&gt;&lt;/script&gt;\n",
       "    &lt;script src=&quot;https://code.jquery.com/jquery-3.7.1.min.js&quot;&gt;&lt;/script&gt;\n",
       "    &lt;script src=&quot;https://cdn.jsdelivr.net/npm/bootstrap@5.2.2/dist/js/bootstrap.bundle.min.js&quot;&gt;&lt;/script&gt;\n",
       "    &lt;script src=&quot;https://cdnjs.cloudflare.com/ajax/libs/Leaflet.awesome-markers/2.0.2/leaflet.awesome-markers.js&quot;&gt;&lt;/script&gt;\n",
       "    &lt;link rel=&quot;stylesheet&quot; href=&quot;https://cdn.jsdelivr.net/npm/leaflet@1.9.3/dist/leaflet.css&quot;/&gt;\n",
       "    &lt;link rel=&quot;stylesheet&quot; href=&quot;https://cdn.jsdelivr.net/npm/bootstrap@5.2.2/dist/css/bootstrap.min.css&quot;/&gt;\n",
       "    &lt;link rel=&quot;stylesheet&quot; href=&quot;https://netdna.bootstrapcdn.com/bootstrap/3.0.0/css/bootstrap.min.css&quot;/&gt;\n",
       "    &lt;link rel=&quot;stylesheet&quot; href=&quot;https://cdn.jsdelivr.net/npm/@fortawesome/fontawesome-free@6.2.0/css/all.min.css&quot;/&gt;\n",
       "    &lt;link rel=&quot;stylesheet&quot; href=&quot;https://cdnjs.cloudflare.com/ajax/libs/Leaflet.awesome-markers/2.0.2/leaflet.awesome-markers.css&quot;/&gt;\n",
       "    &lt;link rel=&quot;stylesheet&quot; href=&quot;https://cdn.jsdelivr.net/gh/python-visualization/folium/folium/templates/leaflet.awesome.rotate.min.css&quot;/&gt;\n",
       "    \n",
       "            &lt;meta name=&quot;viewport&quot; content=&quot;width=device-width,\n",
       "                initial-scale=1.0, maximum-scale=1.0, user-scalable=no&quot; /&gt;\n",
       "            &lt;style&gt;\n",
       "                #map_4b3df76fc512aebc20e376529bc65973 {\n",
       "                    position: relative;\n",
       "                    width: 100.0%;\n",
       "                    height: 100.0%;\n",
       "                    left: 0.0%;\n",
       "                    top: 0.0%;\n",
       "                }\n",
       "                .leaflet-container { font-size: 1rem; }\n",
       "            &lt;/style&gt;\n",
       "        \n",
       "    &lt;script src=&quot;https://cdn.jsdelivr.net/gh/python-visualization/folium@main/folium/templates/leaflet_heat.min.js&quot;&gt;&lt;/script&gt;\n",
       "&lt;/head&gt;\n",
       "&lt;body&gt;\n",
       "    \n",
       "    \n",
       "            &lt;div class=&quot;folium-map&quot; id=&quot;map_4b3df76fc512aebc20e376529bc65973&quot; &gt;&lt;/div&gt;\n",
       "        \n",
       "&lt;/body&gt;\n",
       "&lt;script&gt;\n",
       "    \n",
       "    \n",
       "            var map_4b3df76fc512aebc20e376529bc65973 = L.map(\n",
       "                &quot;map_4b3df76fc512aebc20e376529bc65973&quot;,\n",
       "                {\n",
       "                    center: [0.0, 0.0],\n",
       "                    crs: L.CRS.EPSG3857,\n",
       "                    zoom: 1,\n",
       "                    zoomControl: true,\n",
       "                    preferCanvas: false,\n",
       "                }\n",
       "            );\n",
       "\n",
       "            \n",
       "\n",
       "        \n",
       "    \n",
       "            var tile_layer_de09184c2a94f4585ca1c96b54d6e055 = L.tileLayer(\n",
       "                &quot;https://tile.openstreetmap.org/{z}/{x}/{y}.png&quot;,\n",
       "                {&quot;attribution&quot;: &quot;\\u0026copy; \\u003ca href=\\&quot;https://www.openstreetmap.org/copyright\\&quot;\\u003eOpenStreetMap\\u003c/a\\u003e contributors&quot;, &quot;detectRetina&quot;: false, &quot;maxNativeZoom&quot;: 19, &quot;maxZoom&quot;: 19, &quot;minZoom&quot;: 0, &quot;noWrap&quot;: false, &quot;opacity&quot;: 1, &quot;subdomains&quot;: &quot;abc&quot;, &quot;tms&quot;: false}\n",
       "            );\n",
       "        \n",
       "    \n",
       "            tile_layer_de09184c2a94f4585ca1c96b54d6e055.addTo(map_4b3df76fc512aebc20e376529bc65973);\n",
       "        \n",
       "    \n",
       "            var heat_map_ed91803ad24b271ff50414b0e6320183 = L.heatLayer(\n",
       "                [[12.9348429, 77.6189768, 125.0], [12.9755264, 77.6067902, 71.0], [12.9732913, 77.6404672, 62.0], [12.9844498, 77.5971134, 55.0], [12.91226375, 77.59045672324466, 49.0], [12.9292731, 77.5824229, 43.0], [12.9116225, 77.6388622, 38.0], [12.9778793, 77.6246697, 34.0], [12.9821293, 77.5988521, 32.0], [13.0221416, 77.6403368, 28.0], [12.9552572, 77.6984163, 28.0], [12.9277245, 77.6327822, 25.0], [12.8918931, 77.598608, 24.0], [12.9390255, 77.6238477, 22.0], [12.9696365, 77.7497448, 22.0], [12.9152186, 77.5736205, 20.0], [12.9660577, 77.5980135, 19.0], [12.9327778, 77.6294052, 19.0], [12.9683054, 77.5964883, 19.0], [12.9668233, 77.6096251, 19.0], [12.9243866, 77.6508897, 18.0], [12.911275849999999, 77.60456543431182, 18.0], [12.848759900000001, 77.64825295827616, 18.0], [12.9986827, 77.615525, 16.0], [12.9282918, 77.6254034, 14.0], [13.0027353, 77.5703253, 14.0], [13.0093455, 77.6377094, 13.0], [13.0267404, 77.5717955, 12.0], [12.93103185, 77.6782471, 12.0], [12.9714852, 77.6069655, 12.0], [12.9364846, 77.6134783, 11.0], [13.0141618, 77.6518539, 10.0], [12.9843935, 77.5878025, 10.0], [12.9678074, 77.6568367, 8.0], [12.957434549999999, 77.71470815294066, 8.0], [12.9931876, 77.5753419, 6.0], [12.9584499, 77.6660905, 6.0], [12.944569, 77.7469486, 6.0], [12.9882338, 77.554883, 6.0], [12.9417261, 77.5755021, 4.0], [12.9287596, 77.6287122, 4.0], [12.973936, 77.6509982, 3.0], [13.007516, 77.695935, 2.0], [13.001147, 77.61822712748447, 2.0], [12.9578658, 77.6958748, 2.0], [13.0068, 77.5813, 2.0], [12.9846713, 77.6790908, 2.0], [13.0621474, 77.58006135480495, 1.0], [13.0227204, 77.595715, 1.0], [12.985098650000001, 77.66311735, 1.0], [13.02383, 77.5529215, 1.0], [12.9274413, 77.5155224, 1.0], [13.0422794, 77.6248577, 1.0], [12.987637, 77.7383542, 1.0]],\n",
       "                {&quot;blur&quot;: 15, &quot;maxZoom&quot;: 18, &quot;minOpacity&quot;: 0.5, &quot;radius&quot;: 25}\n",
       "            );\n",
       "        \n",
       "    \n",
       "            heat_map_ed91803ad24b271ff50414b0e6320183.addTo(map_4b3df76fc512aebc20e376529bc65973);\n",
       "        \n",
       "&lt;/script&gt;\n",
       "&lt;/html&gt;\" style=\"position:absolute;width:100%;height:100%;left:0;top:0;border:none !important;\" allowfullscreen webkitallowfullscreen mozallowfullscreen></iframe></div></div>"
      ],
      "text/plain": [
       "<folium.folium.Map at 0x1b3ab5beb30>"
      ]
     },
     "execution_count": 95,
     "metadata": {},
     "output_type": "execute_result"
    }
   ],
   "source": [
    "get_heatmap('Thai')"
   ]
  },
  {
   "cell_type": "code",
   "execution_count": null,
   "id": "22d5c8c1",
   "metadata": {},
   "outputs": [],
   "source": []
  }
 ],
 "metadata": {
  "kernelspec": {
   "display_name": "Python 3 (ipykernel)",
   "language": "python",
   "name": "python3"
  },
  "language_info": {
   "codemirror_mode": {
    "name": "ipython",
    "version": 3
   },
   "file_extension": ".py",
   "mimetype": "text/x-python",
   "name": "python",
   "nbconvert_exporter": "python",
   "pygments_lexer": "ipython3",
   "version": "3.10.9"
  }
 },
 "nbformat": 4,
 "nbformat_minor": 5
}
